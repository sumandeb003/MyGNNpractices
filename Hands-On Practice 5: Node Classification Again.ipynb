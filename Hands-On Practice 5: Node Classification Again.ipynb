{
 "cells": [
  {
   "cell_type": "code",
   "execution_count": 2,
   "id": "833cd223",
   "metadata": {},
   "outputs": [
    {
     "name": "stdout",
     "output_type": "stream",
     "text": [
      "Dataset: Cora():\n",
      "======================\n",
      "Number of graphs: 1\n",
      "Number of classes: 7\n"
     ]
    }
   ],
   "source": [
    "from torch_geometric.datasets import Planetoid\n",
    "from torch_geometric.transforms import NormalizeFeatures\n",
    "\n",
    "dataset = Planetoid(root='/tmp/Cora', name='Cora', transform=NormalizeFeatures())\n",
    "print(f'Dataset: {dataset}:')\n",
    "print('======================')\n",
    "print(f'Number of graphs: {len(dataset)}')\n",
    "print(f'Number of classes: {dataset.num_classes}')#number of node classes"
   ]
  },
  {
   "cell_type": "code",
   "execution_count": 3,
   "id": "b8504ffa",
   "metadata": {},
   "outputs": [
    {
     "name": "stdout",
     "output_type": "stream",
     "text": [
      "0-th graph: Data(x=[2708, 1433], edge_index=[2, 10556], y=[2708], train_mask=[2708], val_mask=[2708], test_mask=[2708])\n",
      "------------\n",
      "Number of nodes: 2708\n",
      "Number of node features: 1433\n",
      "Number of edges: 10556\n",
      "Number of edge features: 0\n",
      "Average node degree: 3.90\n",
      "Number of training nodes: 140\n",
      "Number of validation nodes: 500\n",
      "Number of test nodes: 1000\n",
      "Has isolated nodes(nodes without edges): False\n",
      "Has self-loops: False\n",
      "Is undirected: True\n"
     ]
    }
   ],
   "source": [
    "for (i,graph) in zip(range(len(dataset)),dataset):\n",
    "        print(f'{i}-th graph: {graph}')\n",
    "        print(f'------------')\n",
    "        print(f'Number of nodes: {graph.num_nodes}')\n",
    "        print(f'Number of node features: {graph.num_node_features}')\n",
    "        print(f'Number of edges: {graph.num_edges}')\n",
    "        print(f'Number of edge features: {graph.num_edge_features}')\n",
    "        print(f'Average node degree: {graph.num_edges / graph.num_nodes:.2f}')\n",
    "        print(f'Number of training nodes: {graph.train_mask.sum()}')\n",
    "        print(f'Number of validation nodes: {graph.val_mask.sum()}')\n",
    "        print(f'Number of test nodes: {graph.test_mask.sum()}')\n",
    "        print(f'Has isolated nodes(nodes without edges): {graph.has_isolated_nodes()}')\n",
    "        print(f'Has self-loops: {graph.has_self_loops()}')\n",
    "        print(f'Is undirected: {graph.is_undirected()}')"
   ]
  },
  {
   "cell_type": "code",
   "execution_count": 8,
   "id": "0cde7449",
   "metadata": {},
   "outputs": [
    {
     "data": {
      "text/plain": [
       "tensor([ True,  True,  True,  ..., False, False, False])"
      ]
     },
     "execution_count": 8,
     "metadata": {},
     "output_type": "execute_result"
    }
   ],
   "source": [
    "graph.train_mask"
   ]
  },
  {
   "cell_type": "code",
   "execution_count": 9,
   "id": "f3614a62",
   "metadata": {},
   "outputs": [
    {
     "data": {
      "text/plain": [
       "2708"
      ]
     },
     "execution_count": 9,
     "metadata": {},
     "output_type": "execute_result"
    }
   ],
   "source": [
    "len(graph.train_mask)"
   ]
  },
  {
   "cell_type": "code",
   "execution_count": 10,
   "id": "77fc478e",
   "metadata": {},
   "outputs": [
    {
     "data": {
      "text/plain": [
       "tensor(140)"
      ]
     },
     "execution_count": 10,
     "metadata": {},
     "output_type": "execute_result"
    }
   ],
   "source": [
    "graph.train_mask.sum()\n"
   ]
  },
  {
   "cell_type": "code",
   "execution_count": 11,
   "id": "07fbf1ed",
   "metadata": {},
   "outputs": [
    {
     "data": {
      "text/plain": [
       "tensor([False, False, False,  ..., False, False, False])"
      ]
     },
     "execution_count": 11,
     "metadata": {},
     "output_type": "execute_result"
    }
   ],
   "source": [
    "graph.val_mask"
   ]
  },
  {
   "cell_type": "code",
   "execution_count": 12,
   "id": "a3456201",
   "metadata": {},
   "outputs": [
    {
     "data": {
      "text/plain": [
       "2708"
      ]
     },
     "execution_count": 12,
     "metadata": {},
     "output_type": "execute_result"
    }
   ],
   "source": [
    "len(graph.val_mask)"
   ]
  },
  {
   "cell_type": "code",
   "execution_count": 13,
   "id": "da4e2d40",
   "metadata": {},
   "outputs": [
    {
     "data": {
      "text/plain": [
       "tensor(500)"
      ]
     },
     "execution_count": 13,
     "metadata": {},
     "output_type": "execute_result"
    }
   ],
   "source": [
    "graph.val_mask.sum()"
   ]
  },
  {
   "cell_type": "code",
   "execution_count": 14,
   "id": "7984a6f8",
   "metadata": {},
   "outputs": [
    {
     "data": {
      "text/plain": [
       "tensor([False, False, False,  ...,  True,  True,  True])"
      ]
     },
     "execution_count": 14,
     "metadata": {},
     "output_type": "execute_result"
    }
   ],
   "source": [
    "graph.test_mask"
   ]
  },
  {
   "cell_type": "code",
   "execution_count": 15,
   "id": "2222a957",
   "metadata": {},
   "outputs": [
    {
     "data": {
      "text/plain": [
       "2708"
      ]
     },
     "execution_count": 15,
     "metadata": {},
     "output_type": "execute_result"
    }
   ],
   "source": [
    "len(graph.test_mask)"
   ]
  },
  {
   "cell_type": "code",
   "execution_count": 16,
   "id": "a3d5d4cb",
   "metadata": {},
   "outputs": [
    {
     "data": {
      "text/plain": [
       "tensor(1000)"
      ]
     },
     "execution_count": 16,
     "metadata": {},
     "output_type": "execute_result"
    }
   ],
   "source": [
    "graph.test_mask.sum()"
   ]
  },
  {
   "cell_type": "markdown",
   "id": "d6391452",
   "metadata": {},
   "source": [
    "## Training an MLP on Cora\n",
    "\n",
    "**Lets construct a simple MLP that solely operates on input node features (using shared weights across all nodes)...**"
   ]
  },
  {
   "cell_type": "code",
   "execution_count": 6,
   "id": "73a75c5b",
   "metadata": {},
   "outputs": [
    {
     "name": "stdout",
     "output_type": "stream",
     "text": [
      "MLP(\n",
      "  (lin1): Linear(in_features=1433, out_features=16, bias=True)\n",
      "  (lin2): Linear(in_features=16, out_features=7, bias=True)\n",
      ")\n",
      "Epoch: 001, Loss: 1.9615\n",
      "Epoch: 002, Loss: 1.9557\n",
      "Epoch: 003, Loss: 1.9505\n",
      "Epoch: 004, Loss: 1.9423\n",
      "Epoch: 005, Loss: 1.9327\n",
      "Epoch: 006, Loss: 1.9279\n",
      "Epoch: 007, Loss: 1.9144\n",
      "Epoch: 008, Loss: 1.9087\n",
      "Epoch: 009, Loss: 1.9023\n",
      "Epoch: 010, Loss: 1.8893\n",
      "Epoch: 011, Loss: 1.8776\n",
      "Epoch: 012, Loss: 1.8594\n",
      "Epoch: 013, Loss: 1.8457\n",
      "Epoch: 014, Loss: 1.8365\n",
      "Epoch: 015, Loss: 1.8280\n",
      "Epoch: 016, Loss: 1.7965\n",
      "Epoch: 017, Loss: 1.7984\n",
      "Epoch: 018, Loss: 1.7832\n",
      "Epoch: 019, Loss: 1.7495\n",
      "Epoch: 020, Loss: 1.7441\n",
      "Epoch: 021, Loss: 1.7188\n",
      "Epoch: 022, Loss: 1.7124\n",
      "Epoch: 023, Loss: 1.6785\n",
      "Epoch: 024, Loss: 1.6660\n",
      "Epoch: 025, Loss: 1.6119\n",
      "Epoch: 026, Loss: 1.6236\n",
      "Epoch: 027, Loss: 1.5827\n",
      "Epoch: 028, Loss: 1.5784\n",
      "Epoch: 029, Loss: 1.5524\n",
      "Epoch: 030, Loss: 1.5020\n",
      "Epoch: 031, Loss: 1.5065\n",
      "Epoch: 032, Loss: 1.4742\n",
      "Epoch: 033, Loss: 1.4581\n",
      "Epoch: 034, Loss: 1.4246\n",
      "Epoch: 035, Loss: 1.4131\n",
      "Epoch: 036, Loss: 1.4112\n",
      "Epoch: 037, Loss: 1.3923\n",
      "Epoch: 038, Loss: 1.3055\n",
      "Epoch: 039, Loss: 1.2982\n",
      "Epoch: 040, Loss: 1.2543\n",
      "Epoch: 041, Loss: 1.2244\n",
      "Epoch: 042, Loss: 1.2331\n",
      "Epoch: 043, Loss: 1.1984\n",
      "Epoch: 044, Loss: 1.1796\n",
      "Epoch: 045, Loss: 1.1093\n",
      "Epoch: 046, Loss: 1.1284\n",
      "Epoch: 047, Loss: 1.1229\n",
      "Epoch: 048, Loss: 1.0383\n",
      "Epoch: 049, Loss: 1.0439\n",
      "Epoch: 050, Loss: 1.0563\n",
      "Epoch: 051, Loss: 0.9893\n",
      "Epoch: 052, Loss: 1.0508\n",
      "Epoch: 053, Loss: 0.9343\n",
      "Epoch: 054, Loss: 0.9639\n",
      "Epoch: 055, Loss: 0.8929\n",
      "Epoch: 056, Loss: 0.8705\n",
      "Epoch: 057, Loss: 0.9176\n",
      "Epoch: 058, Loss: 0.9239\n",
      "Epoch: 059, Loss: 0.8641\n",
      "Epoch: 060, Loss: 0.8578\n",
      "Epoch: 061, Loss: 0.7908\n",
      "Epoch: 062, Loss: 0.7856\n",
      "Epoch: 063, Loss: 0.7683\n",
      "Epoch: 064, Loss: 0.7816\n",
      "Epoch: 065, Loss: 0.7356\n",
      "Epoch: 066, Loss: 0.6951\n",
      "Epoch: 067, Loss: 0.7300\n",
      "Epoch: 068, Loss: 0.6939\n",
      "Epoch: 069, Loss: 0.7550\n",
      "Epoch: 070, Loss: 0.6864\n",
      "Epoch: 071, Loss: 0.7094\n",
      "Epoch: 072, Loss: 0.7238\n",
      "Epoch: 073, Loss: 0.7150\n",
      "Epoch: 074, Loss: 0.6191\n",
      "Epoch: 075, Loss: 0.6770\n",
      "Epoch: 076, Loss: 0.6487\n",
      "Epoch: 077, Loss: 0.6258\n",
      "Epoch: 078, Loss: 0.5821\n",
      "Epoch: 079, Loss: 0.5637\n",
      "Epoch: 080, Loss: 0.6368\n",
      "Epoch: 081, Loss: 0.6333\n",
      "Epoch: 082, Loss: 0.6434\n",
      "Epoch: 083, Loss: 0.5974\n",
      "Epoch: 084, Loss: 0.6176\n",
      "Epoch: 085, Loss: 0.5972\n",
      "Epoch: 086, Loss: 0.4690\n",
      "Epoch: 087, Loss: 0.6362\n",
      "Epoch: 088, Loss: 0.6118\n",
      "Epoch: 089, Loss: 0.5248\n",
      "Epoch: 090, Loss: 0.5520\n",
      "Epoch: 091, Loss: 0.6130\n",
      "Epoch: 092, Loss: 0.5361\n",
      "Epoch: 093, Loss: 0.5594\n",
      "Epoch: 094, Loss: 0.5049\n",
      "Epoch: 095, Loss: 0.5043\n",
      "Epoch: 096, Loss: 0.5235\n",
      "Epoch: 097, Loss: 0.5451\n",
      "Epoch: 098, Loss: 0.5329\n",
      "Epoch: 099, Loss: 0.5008\n",
      "Epoch: 100, Loss: 0.5350\n",
      "Epoch: 101, Loss: 0.5343\n",
      "Epoch: 102, Loss: 0.5138\n",
      "Epoch: 103, Loss: 0.5377\n",
      "Epoch: 104, Loss: 0.5353\n",
      "Epoch: 105, Loss: 0.5176\n",
      "Epoch: 106, Loss: 0.5229\n",
      "Epoch: 107, Loss: 0.4558\n",
      "Epoch: 108, Loss: 0.4883\n",
      "Epoch: 109, Loss: 0.4659\n",
      "Epoch: 110, Loss: 0.4908\n",
      "Epoch: 111, Loss: 0.4966\n",
      "Epoch: 112, Loss: 0.4725\n",
      "Epoch: 113, Loss: 0.4787\n",
      "Epoch: 114, Loss: 0.4390\n",
      "Epoch: 115, Loss: 0.4199\n",
      "Epoch: 116, Loss: 0.4810\n",
      "Epoch: 117, Loss: 0.4484\n",
      "Epoch: 118, Loss: 0.5080\n",
      "Epoch: 119, Loss: 0.4241\n",
      "Epoch: 120, Loss: 0.4745\n",
      "Epoch: 121, Loss: 0.4651\n",
      "Epoch: 122, Loss: 0.4652\n",
      "Epoch: 123, Loss: 0.5580\n",
      "Epoch: 124, Loss: 0.4861\n",
      "Epoch: 125, Loss: 0.4405\n",
      "Epoch: 126, Loss: 0.4292\n",
      "Epoch: 127, Loss: 0.4409\n",
      "Epoch: 128, Loss: 0.3575\n",
      "Epoch: 129, Loss: 0.4468\n",
      "Epoch: 130, Loss: 0.4603\n",
      "Epoch: 131, Loss: 0.4108\n",
      "Epoch: 132, Loss: 0.4601\n",
      "Epoch: 133, Loss: 0.4258\n",
      "Epoch: 134, Loss: 0.3852\n",
      "Epoch: 135, Loss: 0.4028\n",
      "Epoch: 136, Loss: 0.4245\n",
      "Epoch: 137, Loss: 0.4300\n",
      "Epoch: 138, Loss: 0.4693\n",
      "Epoch: 139, Loss: 0.4314\n",
      "Epoch: 140, Loss: 0.4031\n",
      "Epoch: 141, Loss: 0.4290\n",
      "Epoch: 142, Loss: 0.4110\n",
      "Epoch: 143, Loss: 0.3863\n",
      "Epoch: 144, Loss: 0.4215\n",
      "Epoch: 145, Loss: 0.4519\n",
      "Epoch: 146, Loss: 0.3940\n",
      "Epoch: 147, Loss: 0.4429\n",
      "Epoch: 148, Loss: 0.3527\n",
      "Epoch: 149, Loss: 0.4390\n",
      "Epoch: 150, Loss: 0.4212\n",
      "Epoch: 151, Loss: 0.4128\n",
      "Epoch: 152, Loss: 0.3779\n",
      "Epoch: 153, Loss: 0.4801\n",
      "Epoch: 154, Loss: 0.4130\n",
      "Epoch: 155, Loss: 0.3962\n",
      "Epoch: 156, Loss: 0.4262\n",
      "Epoch: 157, Loss: 0.4210\n",
      "Epoch: 158, Loss: 0.4081\n",
      "Epoch: 159, Loss: 0.4066\n",
      "Epoch: 160, Loss: 0.3782\n",
      "Epoch: 161, Loss: 0.3836\n",
      "Epoch: 162, Loss: 0.4172\n",
      "Epoch: 163, Loss: 0.3993\n",
      "Epoch: 164, Loss: 0.4477\n",
      "Epoch: 165, Loss: 0.3714\n",
      "Epoch: 166, Loss: 0.3610\n",
      "Epoch: 167, Loss: 0.4546\n",
      "Epoch: 168, Loss: 0.4387\n",
      "Epoch: 169, Loss: 0.3793\n",
      "Epoch: 170, Loss: 0.3704\n",
      "Epoch: 171, Loss: 0.4286\n",
      "Epoch: 172, Loss: 0.4131\n",
      "Epoch: 173, Loss: 0.3795\n",
      "Epoch: 174, Loss: 0.4230\n",
      "Epoch: 175, Loss: 0.4139\n",
      "Epoch: 176, Loss: 0.3586\n",
      "Epoch: 177, Loss: 0.3588\n",
      "Epoch: 178, Loss: 0.3911\n",
      "Epoch: 179, Loss: 0.3810\n",
      "Epoch: 180, Loss: 0.4203\n",
      "Epoch: 181, Loss: 0.3583\n",
      "Epoch: 182, Loss: 0.3690\n",
      "Epoch: 183, Loss: 0.4025\n",
      "Epoch: 184, Loss: 0.3920\n",
      "Epoch: 185, Loss: 0.4369\n",
      "Epoch: 186, Loss: 0.4317\n",
      "Epoch: 187, Loss: 0.4911\n",
      "Epoch: 188, Loss: 0.3369\n",
      "Epoch: 189, Loss: 0.4945\n",
      "Epoch: 190, Loss: 0.3912\n",
      "Epoch: 191, Loss: 0.3824\n",
      "Epoch: 192, Loss: 0.3479\n",
      "Epoch: 193, Loss: 0.3798\n",
      "Epoch: 194, Loss: 0.3799\n",
      "Epoch: 195, Loss: 0.4015\n",
      "Epoch: 196, Loss: 0.3615\n",
      "Epoch: 197, Loss: 0.3985\n",
      "Epoch: 198, Loss: 0.4664\n",
      "Epoch: 199, Loss: 0.3714\n",
      "Epoch: 200, Loss: 0.3810\n",
      "Test Accuracy: 0.5900\n"
     ]
    }
   ],
   "source": [
    "import torch\n",
    "from torch.nn import Linear\n",
    "import torch.nn.functional as F\n",
    "\n",
    "\n",
    "class MLP(torch.nn.Module):\n",
    "    def __init__(self, hidden_channels):\n",
    "        super().__init__()\n",
    "        torch.manual_seed(12345)\n",
    "        self.lin1 = Linear(dataset.num_features, hidden_channels)\n",
    "        self.lin2 = Linear(hidden_channels, dataset.num_classes)\n",
    "\n",
    "    def forward(self, x):\n",
    "        x = self.lin1(x)\n",
    "        x = x.relu()\n",
    "        x = F.dropout(x, p=0.5, training=self.training)\n",
    "        x = self.lin2(x)\n",
    "        return x\n",
    "\n",
    "model = MLP(hidden_channels=16)\n",
    "print(model)\n",
    "\n",
    "criterion = torch.nn.CrossEntropyLoss()  # Define loss criterion.\n",
    "optimizer = torch.optim.Adam(model.parameters(), lr=0.01, weight_decay=5e-4)  # Define optimizer.\n",
    "\n",
    "def train():\n",
    "      model.train()\n",
    "      optimizer.zero_grad()  # Clear gradients.\n",
    "      out = model(graph.x)  # Perform a single forward pass.\n",
    "      loss = criterion(out[graph.train_mask], graph.y[graph.train_mask])  # Compute the loss solely based on the training nodes.\n",
    "      loss.backward()  # Derive gradients.\n",
    "      optimizer.step()  # Update parameters based on gradients.\n",
    "      return loss\n",
    "\n",
    "def test():\n",
    "      model.eval()\n",
    "      out = model(graph.x)\n",
    "      pred = out.argmax(dim=1)  # Use the class with highest probability.\n",
    "      test_correct = pred[graph.test_mask] == graph.y[graph.test_mask]  # Check against ground-truth labels.\n",
    "      test_acc = int(test_correct.sum()) / int(graph.test_mask.sum())  # Derive ratio of correct predictions.\n",
    "      return test_acc\n",
    "\n",
    "for epoch in range(1, 201):\n",
    "    loss = train()\n",
    "    print(f'Epoch: {epoch:03d}, Loss: {loss:.4f}')\n",
    "    \n",
    "test_acc = test()\n",
    "print(f'Test Accuracy: {test_acc:.4f}')"
   ]
  },
  {
   "cell_type": "markdown",
   "id": "ae82ac04",
   "metadata": {},
   "source": [
    "## Converting the Above MLP into a GNN\n",
    "\n",
    "**We can convert the MLP implemented above by simply substituting the `torch.nn.Linear()` layers with `GCNConv()` layers from PyTorch Geoemtric's `torch_geometric.nn`**\n",
    "\n",
    "I have put the MLP code (commented off) too for comparison. The changes or differences have the comment ***DIFFERENT*** next to them."
   ]
  },
  {
   "cell_type": "code",
   "execution_count": 10,
   "id": "196d7833",
   "metadata": {},
   "outputs": [
    {
     "name": "stdout",
     "output_type": "stream",
     "text": [
      "GCN(\n",
      "  (conv1): GCNConv(1433, 16)\n",
      "  (conv2): GCNConv(16, 7)\n",
      ")\n",
      "Epoch: 001, Loss: 1.9463\n",
      "Epoch: 002, Loss: 1.9409\n",
      "Epoch: 003, Loss: 1.9343\n",
      "Epoch: 004, Loss: 1.9275\n",
      "Epoch: 005, Loss: 1.9181\n",
      "Epoch: 006, Loss: 1.9086\n",
      "Epoch: 007, Loss: 1.9015\n",
      "Epoch: 008, Loss: 1.8933\n",
      "Epoch: 009, Loss: 1.8808\n",
      "Epoch: 010, Loss: 1.8685\n",
      "Epoch: 011, Loss: 1.8598\n",
      "Epoch: 012, Loss: 1.8482\n",
      "Epoch: 013, Loss: 1.8290\n",
      "Epoch: 014, Loss: 1.8233\n",
      "Epoch: 015, Loss: 1.8057\n",
      "Epoch: 016, Loss: 1.7966\n",
      "Epoch: 017, Loss: 1.7825\n",
      "Epoch: 018, Loss: 1.7617\n",
      "Epoch: 019, Loss: 1.7491\n",
      "Epoch: 020, Loss: 1.7310\n",
      "Epoch: 021, Loss: 1.7147\n",
      "Epoch: 022, Loss: 1.7056\n",
      "Epoch: 023, Loss: 1.6954\n",
      "Epoch: 024, Loss: 1.6697\n",
      "Epoch: 025, Loss: 1.6538\n",
      "Epoch: 026, Loss: 1.6312\n",
      "Epoch: 027, Loss: 1.6161\n",
      "Epoch: 028, Loss: 1.5899\n",
      "Epoch: 029, Loss: 1.5711\n",
      "Epoch: 030, Loss: 1.5576\n",
      "Epoch: 031, Loss: 1.5393\n",
      "Epoch: 032, Loss: 1.5137\n",
      "Epoch: 033, Loss: 1.4948\n",
      "Epoch: 034, Loss: 1.4913\n",
      "Epoch: 035, Loss: 1.4698\n",
      "Epoch: 036, Loss: 1.3998\n",
      "Epoch: 037, Loss: 1.4041\n",
      "Epoch: 038, Loss: 1.3761\n",
      "Epoch: 039, Loss: 1.3631\n",
      "Epoch: 040, Loss: 1.3258\n",
      "Epoch: 041, Loss: 1.3030\n",
      "Epoch: 042, Loss: 1.3119\n",
      "Epoch: 043, Loss: 1.2519\n",
      "Epoch: 044, Loss: 1.2530\n",
      "Epoch: 045, Loss: 1.2492\n",
      "Epoch: 046, Loss: 1.2205\n",
      "Epoch: 047, Loss: 1.2037\n",
      "Epoch: 048, Loss: 1.1571\n",
      "Epoch: 049, Loss: 1.1700\n",
      "Epoch: 050, Loss: 1.1296\n",
      "Epoch: 051, Loss: 1.0860\n",
      "Epoch: 052, Loss: 1.1080\n",
      "Epoch: 053, Loss: 1.0564\n",
      "Epoch: 054, Loss: 1.0157\n",
      "Epoch: 055, Loss: 1.0362\n",
      "Epoch: 056, Loss: 1.0328\n",
      "Epoch: 057, Loss: 1.0058\n",
      "Epoch: 058, Loss: 0.9865\n",
      "Epoch: 059, Loss: 0.9667\n",
      "Epoch: 060, Loss: 0.9741\n",
      "Epoch: 061, Loss: 0.9769\n",
      "Epoch: 062, Loss: 0.9122\n",
      "Epoch: 063, Loss: 0.8993\n",
      "Epoch: 064, Loss: 0.8769\n",
      "Epoch: 065, Loss: 0.8575\n",
      "Epoch: 066, Loss: 0.8897\n",
      "Epoch: 067, Loss: 0.8312\n",
      "Epoch: 068, Loss: 0.8262\n",
      "Epoch: 069, Loss: 0.8511\n",
      "Epoch: 070, Loss: 0.7711\n",
      "Epoch: 071, Loss: 0.8012\n",
      "Epoch: 072, Loss: 0.7529\n",
      "Epoch: 073, Loss: 0.7525\n",
      "Epoch: 074, Loss: 0.7689\n",
      "Epoch: 075, Loss: 0.7553\n",
      "Epoch: 076, Loss: 0.7032\n",
      "Epoch: 077, Loss: 0.7326\n",
      "Epoch: 078, Loss: 0.7122\n",
      "Epoch: 079, Loss: 0.7090\n",
      "Epoch: 080, Loss: 0.6755\n",
      "Epoch: 081, Loss: 0.6666\n",
      "Epoch: 082, Loss: 0.6679\n",
      "Epoch: 083, Loss: 0.7037\n",
      "Epoch: 084, Loss: 0.6752\n",
      "Epoch: 085, Loss: 0.6266\n",
      "Epoch: 086, Loss: 0.6564\n",
      "Epoch: 087, Loss: 0.6266\n",
      "Epoch: 088, Loss: 0.6411\n",
      "Epoch: 089, Loss: 0.6226\n",
      "Epoch: 090, Loss: 0.6535\n",
      "Epoch: 091, Loss: 0.6317\n",
      "Epoch: 092, Loss: 0.5741\n",
      "Epoch: 093, Loss: 0.5572\n",
      "Epoch: 094, Loss: 0.5710\n",
      "Epoch: 095, Loss: 0.5816\n",
      "Epoch: 096, Loss: 0.5745\n",
      "Epoch: 097, Loss: 0.5547\n",
      "Epoch: 098, Loss: 0.5989\n",
      "Epoch: 099, Loss: 0.6021\n",
      "Epoch: 100, Loss: 0.5799\n",
      "Test Accuracy: 0.8150\n"
     ]
    }
   ],
   "source": [
    "from torch_geometric.nn import GCNConv\n",
    "\n",
    "#class MLP(torch.nn.Module):\n",
    "#    def __init__(self, hidden_channels):\n",
    "#        super().__init__()\n",
    "#        torch.manual_seed(12345)\n",
    "#        self.lin1 = Linear(dataset.num_features, hidden_channels)\n",
    "#        self.lin2 = Linear(hidden_channels, dataset.num_classes)\n",
    "\n",
    "#    def forward(self, x):\n",
    "#        x = self.lin1(x)\n",
    "#        x = x.relu()\n",
    "#        x = F.dropout(x, p=0.5, training=self.training)\n",
    "#        x = self.lin2(x)\n",
    "#        return x\n",
    "\n",
    "class GCN(torch.nn.Module):\n",
    "    def __init__(self, hidden_channels):\n",
    "        super().__init__()\n",
    "        torch.manual_seed(12345)\n",
    "        self.conv1 = GCNConv(dataset.num_features, hidden_channels) #DIFFERENT\n",
    "        self.conv2 = GCNConv(hidden_channels, dataset.num_classes)  #DIFFERENT\n",
    "\n",
    "    def forward(self, x, edge_index):  #DIFFERENT\n",
    "        x = self.conv1(x, edge_index)  #DIFFERENT\n",
    "        x = x.relu()\n",
    "        x = F.dropout(x, p=0.5, training=self.training)\n",
    "        x = self.conv2(x, edge_index) #DIFFERENT\n",
    "        return x\n",
    "\n",
    "#model = MLP(hidden_channels=16)\n",
    "model = GCN(hidden_channels=16)\n",
    "print(model)\n",
    "\n",
    "\n",
    "#optimizer = torch.optim.Adam(model.parameters(), lr=0.01, weight_decay=5e-4)\n",
    "#criterion = torch.nn.CrossEntropyLoss()\n",
    "optimizer = torch.optim.Adam(model.parameters(), lr=0.01, weight_decay=5e-4)\n",
    "criterion = torch.nn.CrossEntropyLoss()\n",
    "\n",
    "#def train():\n",
    "#      model.train()\n",
    "#      optimizer.zero_grad()\n",
    "#      out = model(graph.x)\n",
    "#      loss = criterion(out[graph.train_mask], graph.y[graph.train_mask])\n",
    "#      loss.backward()\n",
    "#      optimizer.step()\n",
    "#      return loss\n",
    "\n",
    "\n",
    "def train():\n",
    "      model.train()\n",
    "      optimizer.zero_grad()\n",
    "      out = model(graph.x, graph.edge_index) #DIFFERENT\n",
    "      loss = criterion(out[graph.train_mask], graph.y[graph.train_mask])\n",
    "      loss.backward()\n",
    "      optimizer.step()\n",
    "      return loss\n",
    "    \n",
    "#def test():\n",
    "#      model.eval()\n",
    "#      out = model(graph.x)\n",
    "#      pred = out.argmax(dim=1)\n",
    "#      test_correct = pred[graph.test_mask] == graph.y[graph.test_mask]\n",
    "#      test_acc = int(test_correct.sum()) / int(graph.test_mask.sum())\n",
    "#      return test_acc\n",
    "\n",
    "\n",
    "def test():\n",
    "      model.eval()\n",
    "      out = model(graph.x, graph.edge_index)  #DIFFERENT\n",
    "      pred = out.argmax(dim=1)\n",
    "      test_correct = pred[graph.test_mask] == graph.y[graph.test_mask]\n",
    "      test_acc = int(test_correct.sum()) / int(graph.test_mask.sum())\n",
    "      return test_acc\n",
    "\n",
    "\n",
    "#for epoch in range(1, 201):\n",
    "#    loss = train()\n",
    "#    print(f'Epoch: {epoch:03d}, Loss: {loss:.4f}')\n",
    "\n",
    "for epoch in range(1, 101):\n",
    "    loss = train()\n",
    "    print(f'Epoch: {epoch:03d}, Loss: {loss:.4f}')\n",
    "    \n",
    "#test_acc = test()\n",
    "#print(f'Test Accuracy: {test_acc:.4f}')\n",
    "\n",
    "test_acc = test()\n",
    "print(f'Test Accuracy: {test_acc:.4f}')"
   ]
  },
  {
   "cell_type": "markdown",
   "id": "fb52dd1c",
   "metadata": {},
   "source": [
    "**The `train()` and `test()` methods for this GNN are almost the same as the MLP, except that GNN makes use of not only the node features `x` (in case of the MLP) but also the graph connectivity `edge_index` as input to our model. This is because the `GCNConv()` layer takes into account the neighboring node information whereas the `Linear()` layer does not.**\n",
    "\n",
    "1. `GCNConv()` is defined as:\n",
    "\n",
    "$$\n",
    "\\mathbf{x}_v^{(\\ell + 1)} = \\mathbf{W}^{(\\ell + 1)} \\sum_{w \\in \\mathcal{N}(v) \\, \\cup \\, \\{ v \\}} \\frac{1}{c_{w,v}} \\cdot \\mathbf{x}_w^{(\\ell)}\n",
    "$$\n",
    "\n",
    "where $\\mathbf{W}^{(\\ell + 1)}$ denotes a trainable weight matrix of shape `[num_output_features, num_input_features]` and $c_{w,v}$ refers to a fixed normalization coefficient for each edge.\n",
    "\n",
    "2. `Linear()` is defined as:\n",
    "\n",
    "$$\n",
    "\\mathbf{x}_v^{(\\ell + 1)} = \\mathbf{W}^{(\\ell + 1)} \\mathbf{x}_v^{(\\ell)}\n",
    "$$\n",
    "\n",
    "By simply substituting the `Linear()` layers with `GCNConv()` layers, we obtained **81.5%** of test accuracy. This is in stark contrast to the **59%** of test accuracy obtained by our MLP, indicating that neighbourhood information plays a crucial role in obtaining better performance. The neighbourhood information is relevant and useful for Cora dataset because **cited papers are very likely related to the category of a document**."
   ]
  }
 ],
 "metadata": {
  "kernelspec": {
   "display_name": "Python 3 (ipykernel)",
   "language": "python",
   "name": "python3"
  },
  "language_info": {
   "codemirror_mode": {
    "name": "ipython",
    "version": 3
   },
   "file_extension": ".py",
   "mimetype": "text/x-python",
   "name": "python",
   "nbconvert_exporter": "python",
   "pygments_lexer": "ipython3",
   "version": "3.8.10"
  }
 },
 "nbformat": 4,
 "nbformat_minor": 5
}
