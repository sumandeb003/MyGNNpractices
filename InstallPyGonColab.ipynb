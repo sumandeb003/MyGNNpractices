{
  "nbformat": 4,
  "nbformat_minor": 0,
  "metadata": {
    "colab": {
      "provenance": [],
      "gpuType": "T4",
      "authorship_tag": "ABX9TyMNHrZFPQPeBRRtfEOLRzC5",
      "include_colab_link": true
    },
    "kernelspec": {
      "name": "python3",
      "display_name": "Python 3"
    },
    "language_info": {
      "name": "python"
    },
    "accelerator": "GPU"
  },
  "cells": [
    {
      "cell_type": "markdown",
      "metadata": {
        "id": "view-in-github",
        "colab_type": "text"
      },
      "source": [
        "<a href=\"https://colab.research.google.com/github/sumandeb003/MyGNNpractices/blob/main/InstallPyGonColab.ipynb\" target=\"_parent\"><img src=\"https://colab.research.google.com/assets/colab-badge.svg\" alt=\"Open In Colab\"/></a>"
      ]
    },
    {
      "cell_type": "markdown",
      "source": [],
      "metadata": {
        "id": "qGGWwV0Vnuv4"
      }
    },
    {
      "cell_type": "code",
      "source": [
        "!python -c \"import torch; print(torch.__version__)\""
      ],
      "metadata": {
        "colab": {
          "base_uri": "https://localhost:8080/"
        },
        "id": "0v5U43Q9oSd2",
        "outputId": "5c2a59e3-0ebb-475f-cd64-9b5519c63d50"
      },
      "execution_count": 2,
      "outputs": [
        {
          "output_type": "stream",
          "name": "stdout",
          "text": [
            "2.0.1+cu118\n"
          ]
        }
      ]
    },
    {
      "cell_type": "code",
      "source": [
        "!python -c \"import torch; print(torch.version.cuda)\""
      ],
      "metadata": {
        "colab": {
          "base_uri": "https://localhost:8080/"
        },
        "id": "WjmK_1rnoemL",
        "outputId": "33fb1818-8e8a-4d8d-8823-f9cae6650706"
      },
      "execution_count": 3,
      "outputs": [
        {
          "output_type": "stream",
          "name": "stdout",
          "text": [
            "11.8\n"
          ]
        }
      ]
    },
    {
      "cell_type": "code",
      "source": [
        "CUDA=11.8"
      ],
      "metadata": {
        "id": "svomh64ipKul"
      },
      "execution_count": 4,
      "outputs": []
    },
    {
      "cell_type": "code",
      "source": [
        "%%bash\n",
        "pip install torch-scatter -f https://pytorch-geometric.com/whl/torch-1.7.0+${CUDA}.html\n",
        "pip install torch-sparse -f https://pytorch-geometric.com/whl/torch-1.7.0+${CUDA}.html\n",
        "pip install torch-cluster -f https://pytorch-geometric.com/whl/torch-1.7.0+${CUDA}.html\n",
        "pip install torch-spline-conv -f https://pytorch-geometric.com/whl/torch-1.7.0+${CUDA}.html"
      ],
      "metadata": {
        "id": "fA3G-gtYpZhZ"
      },
      "execution_count": null,
      "outputs": []
    }
  ]
}