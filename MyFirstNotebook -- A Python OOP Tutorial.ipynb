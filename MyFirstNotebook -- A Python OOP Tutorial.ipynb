{
 "cells": [
  {
   "cell_type": "markdown",
   "id": "f25c8cd8",
   "metadata": {},
   "source": [
    "# Classes in Python\n",
    "\n",
    "Python is an object oriented programming language. Almost everything in Python is an *object*, with its *properties* and *methods*. A Class is like an object constructor, or a \"blueprint\" for creating objects.\n",
    "\n",
    "Now,a class is defined as follows in Python: \n"
   ]
  },
  {
   "cell_type": "code",
   "execution_count": 8,
   "id": "02e82904",
   "metadata": {},
   "outputs": [],
   "source": [
    "class student:\n",
    "    name = 'Suman'\n",
    "    surname = 'Deb'\n",
    "    age = 100\n",
    "    weight = 100\n",
    "    height = 100\n",
    "    race = 'Asian'\n",
    "    mothertongue = 'Bengali'"
   ]
  },
  {
   "cell_type": "markdown",
   "id": "b10c621e",
   "metadata": {},
   "source": [
    "Creating an instance/object of class **student**"
   ]
  },
  {
   "cell_type": "code",
   "execution_count": 10,
   "id": "c664be0e",
   "metadata": {},
   "outputs": [
    {
     "name": "stdout",
     "output_type": "stream",
     "text": [
      "Suman Deb is  100 years old and weighs  100 kilograms.\n"
     ]
    }
   ],
   "source": [
    "s1 = student()\n",
    "\n",
    "print (s1.name, s1.surname, 'is ',s1.age,'years old and weighs',s1.weight,'kilograms.')"
   ]
  },
  {
   "cell_type": "markdown",
   "id": "9f9430df",
   "metadata": {},
   "source": [
    "`__init__()` is a standard function defined by the Python language for any class. Every time an object of a class is created, the `__init__()` function gets automatically executed. This function is used to *initialize* the properties of a class. So, as soon as an object of a class is created, the properties get initialized by this function if this function is present. The values to which the properties are initialized depend on the arguments or inputs provided to the class during object creation. Example:\n",
    "\n",
    "class(arg1, arg2, arg3,....)\n",
    "\n",
    "In the following example code-snippet, some of the properties of the object s1 are initialized at the time of its creation."
   ]
  },
  {
   "cell_type": "code",
   "execution_count": 11,
   "id": "2647c051",
   "metadata": {},
   "outputs": [
    {
     "name": "stdout",
     "output_type": "stream",
     "text": [
      "New Boy is  16 years old and weighs 67 kilograms. He is 163 centimetres tall. He is Asian Bengali .\n"
     ]
    }
   ],
   "source": [
    "class student:\n",
    "    name = 'Suman'\n",
    "    surname = 'Deb'\n",
    "    age = 100\n",
    "    weight = 100\n",
    "    height = 100\n",
    "    race = 'Asian'\n",
    "    mothertongue = 'Bengali'\n",
    "    \n",
    "    def __init__(self, name, surname, age, weight, height):\n",
    "        self.name = name\n",
    "        self.surname = surname\n",
    "        self.age = age\n",
    "        self.weight = weight\n",
    "        self.height = height\n",
    "        \n",
    "\n",
    "s1 = student('New','Boy',16,67,163)\n",
    "\n",
    "print(s1.name, s1.surname, 'is ',s1.age,'years old and weighs',s1.weight,'kilograms. He is',s1.height,'centimetres tall. He is',s1.race,s1.mothertongue,'.')"
   ]
  },
  {
   "cell_type": "markdown",
   "id": "5915fca2",
   "metadata": {},
   "source": [
    "Note the keyword **self** in the above snippet. This keyword is used to refer to the variables and functions within the current instance of the class. \n",
    "**By default, *self* is the first argument of any function in an instance of the class.** Even if a function in a class doesn't take any input argument, it still has an argument -- **self**"
   ]
  },
  {
   "cell_type": "markdown",
   "id": "2e5551b0",
   "metadata": {},
   "source": [
    "Now, let's add a function to the above class. Unlike `__init__()`, this new function doesn't get executed upon object creation and needs to be specifically called to be executed."
   ]
  },
  {
   "cell_type": "code",
   "execution_count": 12,
   "id": "e8e473b3",
   "metadata": {},
   "outputs": [
    {
     "name": "stdout",
     "output_type": "stream",
     "text": [
      "Creating an object of the above class...\n",
      "Object created. But, was the new function executed???\n"
     ]
    }
   ],
   "source": [
    "class student:\n",
    "    name = 'Suman'\n",
    "    surname = 'Deb'\n",
    "    age = 100\n",
    "    weight = 100\n",
    "    height = 100\n",
    "    race = 'Asian'\n",
    "    mothertongue = 'Bengali'\n",
    "    \n",
    "    def __init__(self, name, surname, age, weight, height):\n",
    "        self.name = name\n",
    "        self.surname = surname\n",
    "        self.age = age\n",
    "        self.weight = weight\n",
    "        self.height = height\n",
    "        \n",
    "    def printfunc(self):\n",
    "        print(self.name, self.surname, 'is ',self.age,'years old and weighs',self.weight,'kilograms. He is',self.height,'centimetres tall. He is',self.race,self.mothertongue,'.')\n",
    "\n",
    "\n",
    "print('Creating an object of the above class...')\n",
    "s1 = student('New','Boy',16,67,163)\n",
    "print('Object created. But, was the new function executed???')\n"
   ]
  },
  {
   "cell_type": "code",
   "execution_count": 13,
   "id": "4b270ca1",
   "metadata": {},
   "outputs": [
    {
     "name": "stdout",
     "output_type": "stream",
     "text": [
      "Calling the new function...\n",
      "New Boy is  16 years old and weighs 67 kilograms. He is 163 centimetres tall. He is Asian Bengali .\n"
     ]
    }
   ],
   "source": [
    "print('Calling the new function...')\n",
    "s1.printfunc()"
   ]
  },
  {
   "cell_type": "markdown",
   "id": "46b37c29",
   "metadata": {},
   "source": [
    "Besides `__init__()`, a class has another special function `__str__()`. This function is useful when the object is referenced as a string. \n",
    "\n",
    "Example: **print(s1)** \n",
    "\n"
   ]
  },
  {
   "cell_type": "code",
   "execution_count": 14,
   "id": "8a557c16",
   "metadata": {},
   "outputs": [
    {
     "name": "stdout",
     "output_type": "stream",
     "text": [
      "<__main__.student object at 0x7f26280a7970>\n"
     ]
    }
   ],
   "source": [
    "print (s1)"
   ]
  },
  {
   "cell_type": "markdown",
   "id": "a8832075",
   "metadata": {},
   "source": [
    "Now, we will add the special function `__str__()` to the above class."
   ]
  },
  {
   "cell_type": "code",
   "execution_count": 16,
   "id": "a2a46748",
   "metadata": {},
   "outputs": [],
   "source": [
    "class student:\n",
    "    name = 'Suman'\n",
    "    surname = 'Deb'\n",
    "    age = 100\n",
    "    weight = 100\n",
    "    height = 100\n",
    "    race = 'Asian'\n",
    "    mothertongue = 'Bengali'\n",
    "    \n",
    "    def __init__(self, name, surname, age, weight, height):\n",
    "        self.name = name\n",
    "        self.surname = surname\n",
    "        self.age = age\n",
    "        self.weight = weight\n",
    "        self.height = height\n",
    "        \n",
    "    def printfunc(self):\n",
    "        print(self.name, self.surname, 'is ',self.age,'years old and weighs',self.weight,'kilograms. He is',self.height,'centimetres tall. He is',self.race,self.mothertongue,'.')\n",
    "\n",
    "    \n",
    "    def __str__(self):\n",
    "        return f\"{self.name}({self.age}) from __str__\""
   ]
  },
  {
   "cell_type": "markdown",
   "id": "0c31c6e0",
   "metadata": {},
   "source": [
    "Next, we will see the difference in output upon executing the print statement referring to the object **s1**"
   ]
  },
  {
   "cell_type": "code",
   "execution_count": 18,
   "id": "1a10268d",
   "metadata": {},
   "outputs": [
    {
     "name": "stdout",
     "output_type": "stream",
     "text": [
      "Suman(12) from __str__\n"
     ]
    }
   ],
   "source": [
    "s1=student('Suman','Deb',12,100,167)\n",
    "print(s1)"
   ]
  },
  {
   "cell_type": "markdown",
   "id": "092f96ee",
   "metadata": {},
   "source": [
    "# Scope of Variables in Python\n",
    "## Local Variables\n",
    "\n",
    "A variable created inside a function belongs to the ***local*** scope of that function, and can only be used inside that function or any function inside that function.\n",
    "\n",
    "## Global Variables\n",
    "\n",
    "A variable created in the main body of the Python code is a global variable and belongs to the global scope. Global variables are available from within any scope, global and local.\n",
    "\n"
   ]
  },
  {
   "cell_type": "code",
   "execution_count": 19,
   "id": "961e16d1",
   "metadata": {},
   "outputs": [
    {
     "name": "stdout",
     "output_type": "stream",
     "text": [
      "Value of x inside function scope():  5\n",
      "Value of x outside function scope():  50\n"
     ]
    }
   ],
   "source": [
    "x=50 #global variable\n",
    "\n",
    "def scope():\n",
    "    x=5 #local variable\n",
    "    print('Value of x inside function scope(): ',x)\n",
    "    \n",
    "scope()\n",
    "    \n",
    "print ('Value of x outside function scope(): ',x)"
   ]
  },
  {
   "cell_type": "markdown",
   "id": "b5ad2078",
   "metadata": {},
   "source": [
    "As you have seen, the value of the **global variable *x*** wasn't changed from inside the function. But, this can be made to happen by using the Python keyword **global** before a variable. Not just that, using the keyword **global**, a global variable can be created from inside a function. The below code-snippet exemplifies the functionality of this keyword. "
   ]
  },
  {
   "cell_type": "code",
   "execution_count": 21,
   "id": "05306f41",
   "metadata": {},
   "outputs": [
    {
     "name": "stdout",
     "output_type": "stream",
     "text": [
      "Value of x inside function scope():  5\n",
      "Value of y inside function scope():  9\n",
      "Value of x outside function scope():  5\n",
      "Value of y outside function scope():  9\n",
      "New value of y outside function scope():  99\n"
     ]
    }
   ],
   "source": [
    "x=50 #global variable\n",
    "\n",
    "def scope():\n",
    "    global x\n",
    "    x=5 #local variable\n",
    "    print('Value of x inside function scope(): ',x)\n",
    "    global y\n",
    "    y = 9\n",
    "    print('Value of y inside function scope(): ',y)\n",
    "    \n",
    "scope()\n",
    "    \n",
    "print ('Value of x outside function scope(): ',x)\n",
    "print ('Value of y outside function scope(): ',y)\n",
    "y=99\n",
    "print ('New value of y outside function scope(): ',y)"
   ]
  },
  {
   "cell_type": "markdown",
   "id": "84247fd9",
   "metadata": {},
   "source": [
    "# Python Inheritance\n",
    "\n",
    "This allows a class (called the **child class**) to inherit all the variables and functions of another class called the **parent class**. In the following example, a class ***friend*** is created that inherits from the class ***student*** that we created above. As you can see, ***friend*** can access the function ***printfunc()*** of ***student***. Similarly, it can access all other variables and functions of ***student***."
   ]
  },
  {
   "cell_type": "code",
   "execution_count": 23,
   "id": "56867254",
   "metadata": {},
   "outputs": [
    {
     "name": "stdout",
     "output_type": "stream",
     "text": [
      "Vijay Dwivedi is  16 years old and weighs 199 kilograms. He is 177 centimetres tall. He is Asian Bengali .\n"
     ]
    }
   ],
   "source": [
    "class friend (student):\n",
    "    pass\n",
    "\n",
    "f1=friend('Vijay', 'Dwivedi',16,199,177)\n",
    "f1.printfunc()"
   ]
  },
  {
   "cell_type": "code",
   "execution_count": 26,
   "id": "5fe019fe",
   "metadata": {},
   "outputs": [
    {
     "name": "stdout",
     "output_type": "stream",
     "text": [
      "O\n"
     ]
    }
   ],
   "source": [
    "f1.bloodtype = 'O'#Adding a new variable to the child class\n",
    "print(f1.bloodtype)"
   ]
  },
  {
   "cell_type": "code",
   "execution_count": 25,
   "id": "a60288c1",
   "metadata": {},
   "outputs": [
    {
     "name": "stdout",
     "output_type": "stream",
     "text": [
      "Vijay Dwivedi is  16 years old and weighs 199 kilograms. He is 177 centimetres tall. He is Asian Nepali .\n"
     ]
    }
   ],
   "source": [
    "f1.mothertongue='Nepali'#assigning a new value to a variable inherited from the parent class\n",
    "f1.printfunc()"
   ]
  },
  {
   "cell_type": "markdown",
   "id": "9f2aa2c3",
   "metadata": {},
   "source": [
    "Similarly, a function inherited from the parent class can be overrided by defining a new function (of the same name) in the child class. So, if we define a new `__init__()` in the child class, creating a new object of the child class will execute the new `__init__()` instead of the one in the parent class. Check the following code-snippet for an example."
   ]
  },
  {
   "cell_type": "code",
   "execution_count": 28,
   "id": "03ab76d0",
   "metadata": {},
   "outputs": [
    {
     "name": "stdout",
     "output_type": "stream",
     "text": [
      "Vijay Dwivedi is  100 years old and weighs 100 kilograms. He is 100 centimetres tall. He is Asian Bengali .\n"
     ]
    }
   ],
   "source": [
    "class friend(student):\n",
    "    def __init__(self,name,surname,age,weight,height):#overriding the __init__() function of the parent class\n",
    "        self.name = name\n",
    "        self.surname = surname\n",
    "\n",
    "f1=friend('Vijay', 'Dwivedi',16,199,177)\n",
    "f1.printfunc()"
   ]
  },
  {
   "cell_type": "markdown",
   "id": "82e0a4f1",
   "metadata": {},
   "source": [
    "Similarly, you can add new functions to the child class."
   ]
  },
  {
   "cell_type": "code",
   "execution_count": 34,
   "id": "3c9af10d",
   "metadata": {},
   "outputs": [
    {
     "name": "stdout",
     "output_type": "stream",
     "text": [
      "Vijay Dwivedi is  100 years old and weighs 100 kilograms. He is 100 centimetres tall. He is Asian Bengali .\n",
      "BMI of Vijay is: 100.0\n"
     ]
    }
   ],
   "source": [
    "class friend(student):\n",
    "    def __init__(self,name,surname,age,weight,height):#overriding the __init__() function of the parent class\n",
    "        self.name = name\n",
    "        self.surname = surname\n",
    "    \n",
    "    def calcBMI(self): #adding a new function\n",
    "        return self.weight/(self.height/100)**2\n",
    "\n",
    "f1=friend('Vijay', 'Dwivedi',16,199,177)\n",
    "f1.printfunc()\n",
    "print('BMI of',f1.name,'is:',f1.calcBMI())"
   ]
  },
  {
   "cell_type": "markdown",
   "id": "eb3e5976",
   "metadata": {},
   "source": [
    "The keyword ***super*** is used in the child class to refer to any variable or function in the parent class. It is especially useful in adding new features to an inherited function in the child class."
   ]
  },
  {
   "cell_type": "code",
   "execution_count": 39,
   "id": "ff95cc52",
   "metadata": {
    "scrolled": true
   },
   "outputs": [
    {
     "name": "stdout",
     "output_type": "stream",
     "text": [
      "Vijay Dwivedi is  16 years old and weighs 199 kilograms. He is 177 centimetres tall. He is Indian Nepali .\n",
      "BMI of Vijay is: 63.51942289891155\n"
     ]
    }
   ],
   "source": [
    "class friend(student):\n",
    "    def __init__(self,name,surname,age,weight,height,race,mothertongue):#adding new functionalities to the __init__() function of the parent class\n",
    "        super().__init__(name,surname,age,weight,height)\n",
    "        self.race=race\n",
    "        self.mothertongue=mothertongue\n",
    "        \n",
    "    def calcBMI(self): #adding a new function\n",
    "        return self.weight/(self.height/100)**2\n",
    "    \n",
    "    def printfunc(self):\n",
    "        print(self.name, self.surname, 'is ',self.age,'years old and weighs',self.weight,'kilograms. He is',self.height,'centimetres tall. He is',self.race,self.mothertongue,'.')\n",
    "\n",
    "    \n",
    "\n",
    "f1=friend('Vijay', 'Dwivedi',16,199,177,'Indian','Nepali')\n",
    "f1.printfunc()\n",
    "print('BMI of',f1.name,'is:',f1.calcBMI())"
   ]
  },
  {
   "cell_type": "markdown",
   "id": "30ba074c",
   "metadata": {},
   "source": [
    "Python also supports inheritance of multiple parent classes."
   ]
  },
  {
   "cell_type": "code",
   "execution_count": 7,
   "id": "009f070a",
   "metadata": {},
   "outputs": [
    {
     "name": "stdout",
     "output_type": "stream",
     "text": [
      "17 13 1 30\n"
     ]
    }
   ],
   "source": [
    "class add():\n",
    "    def __init__(self,a,b):\n",
    "        self.sum=a+b\n",
    "\n",
    "class subtract():\n",
    "    def __init__(self,a,b):\n",
    "        self.residue=a-b\n",
    "\n",
    "class multiply():\n",
    "    def __init__(self,a,b):\n",
    "        self.product=a*b\n",
    "        \n",
    "class modulo():\n",
    "    def __init__(self,a,b):\n",
    "        self.remainder=a%b\n",
    "        \n",
    "class math(add,subtract,multiply,modulo):#inheriting from all of the above classes\n",
    "    def __init__(self,a,b):\n",
    "        add.__init__(self,a,b)\n",
    "        subtract.__init__(self,a,b)\n",
    "        multiply.__init__(self,a,b)\n",
    "        modulo.__init__(self,a,b)\n",
    "    \n",
    "op=math(15,2)\n",
    "print(op.sum,op.residue,op.remainder,op.product)"
   ]
  }
 ],
 "metadata": {
  "kernelspec": {
   "display_name": "Python 3 (ipykernel)",
   "language": "python",
   "name": "python3"
  },
  "language_info": {
   "codemirror_mode": {
    "name": "ipython",
    "version": 3
   },
   "file_extension": ".py",
   "mimetype": "text/x-python",
   "name": "python",
   "nbconvert_exporter": "python",
   "pygments_lexer": "ipython3",
   "version": "3.8.10"
  }
 },
 "nbformat": 4,
 "nbformat_minor": 5
}
