{
 "cells": [
  {
   "cell_type": "markdown",
   "id": "20336bf8",
   "metadata": {},
   "source": [
    "**HW2VEC is a Graph Neural Network(GNN)-based hardware trojan detection tool whose source-code is available at https://github.com/AICPS/hw2vec**\n",
    "\n",
    "The package versions and the commands (for setting up HW2VEC tool) mentioned in the above repo cause lot of errors as they are quite old. So, please don't follow them. After many iterations of trials and errors, the following commands (in order) worked for setting up the HW2VEC tool in my system. \n",
    "\n",
    "`git clone https://github.com/AICPS/hw2vec`\n",
    "\n",
    "`conda create --name hw2vec_python37_pyg_pygraphviz`\n",
    "\n",
    "`conda activate hw2vec_python37_pyg_pygraphviz`\n",
    "\n",
    "`conda install python=3.7`\n",
    "\n",
    "`conda install pyg -c pyg`\n",
    "\n",
    "`python3 -m pip install pygraphviz`\n",
    "\n",
    "`python3 -m pip install pydot pathlib patool pyunpack pyverilog`\n",
    "\n",
    "`python3 -m pip install pytorch-nlp`\n",
    "\n",
    "`python3 -m pip install scikit-image`\n",
    "\n",
    "`python3 -m pip install pandas networkx matplotlib`\n",
    "\n",
    "`conda list`\n",
    "\n",
    "My system has:\n",
    "1. **Ubuntu 20.04.4 LTS** (execute `lsb_release -d` in your Ubuntu terminal to see the version of your Ubuntu)\n",
    "2. **Anaconda**\n",
    "3. **CUDA 12** (execute `nvcc --version`in your Ubuntu terminal to see the CUDA version/availability (nvcc = nvidia cuda compiler))"
   ]
  },
  {
   "cell_type": "markdown",
   "id": "e0769b85",
   "metadata": {},
   "source": [
    "Having set up the HW2VEC tool, let's execute the example script `hw2vec/graph2vec/models.py`. This script basically takes an input digital design (a Verilog file), converts it into a graph (in which each node has features or embeddings) and then, inputs the graph to a Graph Neural Network (GNN). The GNN transforms the node features into a new set of node features. This tranformed graph (with new node-features) can be used to train a Multi-Layered Perceptron (MLP).\n",
    "\n",
    "I found some issues in the tool due to which the following steps -- **1-3** -- need to be performed before one can execu.\n",
    "\n",
    "**Step 1:** Modify **line 105** of `hw2vec/graph2vec/models.py` as:\n",
    "\n",
    "`self.load_state_dict(torch.load(model_weight_path, map_location=torch.device('cpu')),strict=False)`"
   ]
  },
  {
   "cell_type": "markdown",
   "id": "539e6fe2",
   "metadata": {},
   "source": [
    "**Step 2:** Modify **line 28** of `hw2vec/examples/use_case_1.py` as:\n",
    "\n",
    "`hw_design_dir_path = Path(\"../assets/datasets/TJ-RTL-toy/TjFree/RS232/\")`\n",
    "\n",
    "Here, `RS232` is the directory containing the circuit-implementation of **RS232**. None of the circuits inside this directory can have the title `topModule.v`. Else, the `pre-process` function of `HW2GRAPH` class in `.hw2vec/hw2graph.py` can't execute on them."
   ]
  },
  {
   "cell_type": "markdown",
   "id": "91c7a732",
   "metadata": {},
   "source": [
    "**Step 3:** Unzip the assets/datasets.zip"
   ]
  },
  {
   "cell_type": "markdown",
   "id": "88f20a03",
   "metadata": {},
   "source": [
    "**Step 4:** Execute the following command in the terminal:\n",
    "\n",
    "`python use_case_1.py`"
   ]
  },
  {
   "cell_type": "markdown",
   "id": "59ebecf2",
   "metadata": {},
   "source": [
    "## Pyverilog\n",
    "\n",
    "I setup the environment for installing Pyverilog in my system. The reason for doing this was to see if Pyverilog can process System Verilog files.\n",
    "\n",
    "For installation steps, I referred to the [Pyverilog repo](https://github.com/PyHDI/Pyverilog) in Github.\n",
    "\n",
    "I took an example file - *test.v* (available in the above repo) - and changed its extension to .sv. Then, I ran the `VerilogDataflowAnalyzer()` (provided by Pyverilog) on this file by running the following command available in the Pyverilog Github repo:\n",
    "\n",
    "`python3 pyverilog/examples/example_dataflow_analyzer.py -t top test.sv`\n",
    "\n",
    "The included files can have either ***.sv*** or ***.v*** extension as long as the extension is mentioned in the `include` statement. "
   ]
  },
  {
   "cell_type": "markdown",
   "id": "ecff71c8",
   "metadata": {},
   "source": [
    "I ran the following command to run the `VerilogDataflowAnalyzer()` on the *.sv* files of Ariane's `axi_to_apb` module. \n",
    "\n",
    "`python3 ./examples/example_dataflow_analyzer.py ../hw2vec/assets/datasets/TJ-RTL-toy/TjIn/ariane_axi_to_apb/cva6_axi2apb_64_32_T3P4.sv ../hw2vec/assets/datasets/TJ-RTL-toy/TjIn/ariane_axi_to_apb/fifo_v3.sv ../hw2vec/assets/datasets/TJ-RTL-toy/TjIn/ariane_axi_to_apb/fifo_v2.sv ../hw2vec/assets/datasets/TJ-RTL-toy/TjIn/ariane_axi_to_apb/fifo_v1.sv ../hw2vec/assets/datasets/TJ-RTL-toy/TjIn/ariane_axi_to_apb/axi_w_buffer.sv ../hw2vec/assets/datasets/TJ-RTL-toy/TjIn/ariane_axi_to_apb/axi_single_slice.sv ../hw2vec/assets/datasets/TJ-RTL-toy/TjIn/ariane_axi_to_apb/axi_r_buffer.sv ../hw2vec/assets/datasets/TJ-RTL-toy/TjIn/ariane_axi_to_apb/axi_b_buffer.sv ../hw2vec/assets/datasets/TJ-RTL-toy/TjIn/ariane_axi_to_apb/axi_aw_buffer.sv ../hw2vec/assets/datasets/TJ-RTL-toy/TjIn/ariane_axi_to_apb/axi_ar_buffer.sv`\n",
    "\n",
    "But, the Pyverilog parser seems to fail at a number of lines in the *.sv* files. It fails at many special constructs of the language. The following statements are some example lines from the Ariane code at which Pyverilog shows error.\n",
    "\n",
    "`input  logic [AXI_NUMBYTES-1:0][7:0]   WDATA_i    ,`\n",
    "\n",
    "`logic [1:0][31:0]              WDATA; `\n",
    "\n",
    " `enum logic [3:0] { IDLE, SINGLE_RD, SINGLE_RD_64, BURST_RD_1, BURST_RD, BURST_RD_64, BURST_WR, BURST_WR_64,\n",
    "                    SINGLE_WR,SINGLE_WR_64, WAIT_R_PREADY, WAIT_W_PREADY} CS, NS;`\n",
    "                    \n",
    " The errors go away when these lines were commented off from the code. But, these lines are part of the actual Ariane implementation."
   ]
  },
  {
   "cell_type": "markdown",
   "id": "3d7dbde1",
   "metadata": {},
   "source": [
    "## HW2VEC\n",
    "\n",
    "**Just to be sure, I also ran the *.sv* files of Ariane's `axi_to_apb` module through the HW2VEC tooflow. It fails showing the same error as above.**\n",
    "\n",
    "**However, both HW2VEC and Pyverilog successfully parsed through simpler *.v* and *.sv* codes without any error.** \n",
    "\n",
    "Like this hardware trojan detection method, there will be many other detection methods which not only lack in being tested for large-scale SoC-level designs but also in their ability to compile designs which use advanced features of the HDL."
   ]
  },
  {
   "cell_type": "markdown",
   "id": "35550c99",
   "metadata": {},
   "source": [
    "The `examples`/`use_case_2.py` script performs 3 main tasks - converting hw circuits to graphs, configuring the GNN model, training the GNN model and evaluating the model.\n",
    "\n",
    "Below are some modifications that I had to do in order to get the `examples`/`use_case_2.py` script functional:\n",
    "\n",
    "1. `examples`/`use_case_2.py`: Comment off **lines 10**, **23 - 26** of this script. Indent **lines 11-21** properly. This is done because getting the graph data from cache (*i.e.,* the *.pkl* files in `examples`) doesn't work. The *.pkl* files `dfg_tj_rtl.pkl` and `ast_tj_rtl.pkl` don't contain the graphs of circuits and are empty.\n",
    "2. `hw2vec`/`hw2graph.py`: Modify **line 148** to: \n",
    "\n",
    "class_weights = torch.from_numpy(compute_class_weight(**class_weight =** 'balanced', **classes=** np.unique(training_labels), **y =** training_labels))\n",
    "\n",
    "The script can be run as usual without the `--data_pkl_path` option and just the `--graph_type`option (`DFG` or `AST`).\n",
    "\n",
    "**Next, I need to understand how to view the prediction results of the pre-trained GNN model for trojan detection.**"
   ]
  }
 ],
 "metadata": {
  "kernelspec": {
   "display_name": "Python 3 (ipykernel)",
   "language": "python",
   "name": "python3"
  },
  "language_info": {
   "codemirror_mode": {
    "name": "ipython",
    "version": 3
   },
   "file_extension": ".py",
   "mimetype": "text/x-python",
   "name": "python",
   "nbconvert_exporter": "python",
   "pygments_lexer": "ipython3",
   "version": "3.8.10"
  }
 },
 "nbformat": 4,
 "nbformat_minor": 5
}
