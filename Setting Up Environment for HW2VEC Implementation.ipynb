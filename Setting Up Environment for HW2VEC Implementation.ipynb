{
 "cells": [
  {
   "cell_type": "markdown",
   "id": "20336bf8",
   "metadata": {},
   "source": [
    "The HW2VEC codebase is available at https://github.com/AICPS/hw2vec"
   ]
  },
  {
   "cell_type": "markdown",
   "id": "b7129b9b",
   "metadata": {},
   "source": [
    "**Step 1:** To set up the environment for HW2VEC, the following bash commands were executed in the following sequence in the terminal:\n",
    "\n",
    "`conda create --name hw2vec_python37_pyg_pygraphviz`\n",
    "\n",
    "`conda activate hw2vec_python37_pyg_pygraphviz`\n",
    "\n",
    "`conda install python=3.7`\n",
    "\n",
    "`conda install pyg -c pyg`\n",
    "\n",
    "`python3 -m pip install pygraphviz`\n",
    "\n",
    "`python3 -m pip install pydot pathlib patool pyunpack pyverilog`\n",
    "\n",
    "`python3 -m pip install pytorch-nlp`\n",
    "\n",
    "`python3 -m pip install scikit-image`\n",
    "\n",
    "`python3 -m pip install pandas networkx matplotlib`\n",
    "\n",
    "`conda list`\n",
    "\n",
    "*Note:* \n",
    "1. The package versions and the commands mentioned in the HW2VEC repo cause lot of errors as they are quite old. \n",
    "\n",
    "2. My system has CUDA 12."
   ]
  },
  {
   "cell_type": "markdown",
   "id": "e0769b85",
   "metadata": {},
   "source": [
    "**Step 2:** Modify line 105 of hw2vec/graph2vec/models.py as:\n",
    "\n",
    "`self.load_state_dict(torch.load(model_weight_path, map_location=torch.device('cpu')),strict=False)`"
   ]
  },
  {
   "cell_type": "markdown",
   "id": "539e6fe2",
   "metadata": {},
   "source": [
    "**Step 3:** Modify line 28 of hw2vec/examples/use_case_1.py as:\n",
    "\n",
    "`hw_design_dir_path = Path(\"../assets/datasets/TJ-RTL-toy/TjFree/RS232/\")`\n",
    "\n",
    "`RS232` can be replaced with other example circuits present in the given path."
   ]
  },
  {
   "cell_type": "markdown",
   "id": "91c7a732",
   "metadata": {},
   "source": [
    "**Step 4:** Unzip the assets/datasets.zip"
   ]
  },
  {
   "cell_type": "markdown",
   "id": "88f20a03",
   "metadata": {},
   "source": [
    "**Step 5:** Execute the following command in the terminal:\n",
    "\n",
    "`python use_case_1.py`"
   ]
  }
 ],
 "metadata": {
  "kernelspec": {
   "display_name": "Python 3 (ipykernel)",
   "language": "python",
   "name": "python3"
  },
  "language_info": {
   "codemirror_mode": {
    "name": "ipython",
    "version": 3
   },
   "file_extension": ".py",
   "mimetype": "text/x-python",
   "name": "python",
   "nbconvert_exporter": "python",
   "pygments_lexer": "ipython3",
   "version": "3.8.10"
  }
 },
 "nbformat": 4,
 "nbformat_minor": 5
}
