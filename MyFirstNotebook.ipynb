{
 "cells": [
  {
   "cell_type": "markdown",
   "id": "f25c8cd8",
   "metadata": {},
   "source": [
    "# Just a test file for experiencing Jupyter Notebook\n"
   ]
  },
  {
   "cell_type": "code",
   "execution_count": 8,
   "id": "217d1362",
   "metadata": {},
   "outputs": [
    {
     "name": "stdout",
     "output_type": "stream",
     "text": [
      "Hello Viewer!!!\n"
     ]
    }
   ],
   "source": [
    "print ('Hello Viewer!!!')\n"
   ]
  },
  {
   "cell_type": "code",
   "execution_count": 9,
   "id": "668012bf",
   "metadata": {},
   "outputs": [
    {
     "data": {
      "text/plain": [
       "190"
      ]
     },
     "execution_count": 9,
     "metadata": {},
     "output_type": "execute_result"
    }
   ],
   "source": [
    "10*19"
   ]
  },
  {
   "cell_type": "code",
   "execution_count": 16,
   "id": "af61aece",
   "metadata": {},
   "outputs": [
    {
     "data": {
      "text/plain": [
       "'SumanDeb'"
      ]
     },
     "execution_count": 16,
     "metadata": {},
     "output_type": "execute_result"
    }
   ],
   "source": [
    "'Suman' + 'Deb'\n",
    "\n"
   ]
  },
  {
   "cell_type": "markdown",
   "id": "ba775ebe",
   "metadata": {},
   "source": [
    "#The End"
   ]
  }
 ],
 "metadata": {
  "kernelspec": {
   "display_name": "Python 3 (ipykernel)",
   "language": "python",
   "name": "python3"
  },
  "language_info": {
   "codemirror_mode": {
    "name": "ipython",
    "version": 3
   },
   "file_extension": ".py",
   "mimetype": "text/x-python",
   "name": "python",
   "nbconvert_exporter": "python",
   "pygments_lexer": "ipython3",
   "version": "3.8.10"
  }
 },
 "nbformat": 4,
 "nbformat_minor": 5
}
