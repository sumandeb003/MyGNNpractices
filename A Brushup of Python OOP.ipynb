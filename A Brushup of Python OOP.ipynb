{
 "cells": [
  {
   "cell_type": "markdown",
   "id": "f25c8cd8",
   "metadata": {},
   "source": [
    "# Classes in Python\n",
    "\n",
    "Python is an object oriented programming language. Almost everything in Python is an *object*, with its *properties* and *methods*. A Class is like an object constructor, or a \"blueprint\" for creating objects.\n",
    "\n",
    "Now,a class is defined as follows in Python: \n"
   ]
  },
  {
   "cell_type": "code",
   "execution_count": 8,
   "id": "02e82904",
   "metadata": {},
   "outputs": [],
   "source": [
    "class student:\n",
    "    name = 'Suman'\n",
    "    surname = 'Deb'\n",
    "    age = 100\n",
    "    weight = 100\n",
    "    height = 100\n",
    "    race = 'Asian'\n",
    "    mothertongue = 'Bengali'"
   ]
  },
  {
   "cell_type": "markdown",
   "id": "b10c621e",
   "metadata": {},
   "source": [
    "Creating an instance/object of class **student**"
   ]
  },
  {
   "cell_type": "code",
   "execution_count": 10,
   "id": "c664be0e",
   "metadata": {},
   "outputs": [
    {
     "name": "stdout",
     "output_type": "stream",
     "text": [
      "Suman Deb is  100 years old and weighs  100 kilograms.\n"
     ]
    }
   ],
   "source": [
    "s1 = student()\n",
    "\n",
    "print (s1.name, s1.surname, 'is ',s1.age,'years old and weighs',s1.weight,'kilograms.')"
   ]
  },
  {
   "cell_type": "markdown",
   "id": "9f9430df",
   "metadata": {},
   "source": [
    "`__init__()` is a standard function defined by the Python language for any class. Every time an object of a class is created, the `__init__()` function gets automatically executed. This function is used to *initialize* the properties of a class. So, as soon as an object of a class is created, the properties get initialized by this function if this function is present. The values to which the properties are initialized depend on the arguments or inputs provided to the class during object creation. Example:\n",
    "\n",
    "class(arg1, arg2, arg3,....)\n",
    "\n",
    "In the following example code-snippet, some of the properties of the object s1 are initialized at the time of its creation."
   ]
  },
  {
   "cell_type": "code",
   "execution_count": 11,
   "id": "2647c051",
   "metadata": {},
   "outputs": [
    {
     "name": "stdout",
     "output_type": "stream",
     "text": [
      "New Boy is  16 years old and weighs 67 kilograms. He is 163 centimetres tall. He is Asian Bengali .\n"
     ]
    }
   ],
   "source": [
    "class student:\n",
    "    name = 'Suman'\n",
    "    surname = 'Deb'\n",
    "    age = 100\n",
    "    weight = 100\n",
    "    height = 100\n",
    "    race = 'Asian'\n",
    "    mothertongue = 'Bengali'\n",
    "    \n",
    "    def __init__(self, name, surname, age, weight, height):\n",
    "        self.name = name\n",
    "        self.surname = surname\n",
    "        self.age = age\n",
    "        self.weight = weight\n",
    "        self.height = height\n",
    "        \n",
    "\n",
    "s1 = student('New','Boy',16,67,163)\n",
    "\n",
    "print(s1.name, s1.surname, 'is ',s1.age,'years old and weighs',s1.weight,'kilograms. He is',s1.height,'centimetres tall. He is',s1.race,s1.mothertongue,'.')"
   ]
  },
  {
   "cell_type": "markdown",
   "id": "5915fca2",
   "metadata": {},
   "source": [
    "Note the keyword **self** in the above snippet. This keyword is used to refer to the variables and functions within the current instance of the class. \n",
    "**By default, *self* is the first argument of any function in an instance of the class.** Even if a function in a class doesn't take any input argument, it still has an argument -- **self**\n",
    "\n",
    "**self** is a self-referencing pointer. It is necessary to pass self as a parameter if the method is inside a class. This is because when an object calls a method, Python automatically passes the object as the first argument to the method."
   ]
  },
  {
   "cell_type": "markdown",
   "id": "2e5551b0",
   "metadata": {},
   "source": [
    "Now, let's add a function to the above class. Unlike `__init__()`, this new function doesn't get executed upon object creation and needs to be specifically called to be executed."
   ]
  },
  {
   "cell_type": "code",
   "execution_count": 12,
   "id": "e8e473b3",
   "metadata": {},
   "outputs": [
    {
     "name": "stdout",
     "output_type": "stream",
     "text": [
      "Creating an object of the above class...\n",
      "Object created. But, was the new function executed???\n"
     ]
    }
   ],
   "source": [
    "class student:\n",
    "    name = 'Suman'\n",
    "    surname = 'Deb'\n",
    "    age = 100\n",
    "    weight = 100\n",
    "    height = 100\n",
    "    race = 'Asian'\n",
    "    mothertongue = 'Bengali'\n",
    "    \n",
    "    def __init__(self, name, surname, age, weight, height):\n",
    "        self.name = name\n",
    "        self.surname = surname\n",
    "        self.age = age\n",
    "        self.weight = weight\n",
    "        self.height = height\n",
    "        \n",
    "    def printfunc(self):\n",
    "        print(self.name, self.surname, 'is ',self.age,'years old and weighs',self.weight,'kilograms. He is',self.height,'centimetres tall. He is',self.race,self.mothertongue,'.')\n",
    "\n",
    "\n",
    "print('Creating an object of the above class...')\n",
    "s1 = student('New','Boy',16,67,163)\n",
    "print('Object created. But, was the new function executed???')\n"
   ]
  },
  {
   "cell_type": "code",
   "execution_count": 13,
   "id": "4b270ca1",
   "metadata": {},
   "outputs": [
    {
     "name": "stdout",
     "output_type": "stream",
     "text": [
      "Calling the new function...\n",
      "New Boy is  16 years old and weighs 67 kilograms. He is 163 centimetres tall. He is Asian Bengali .\n"
     ]
    }
   ],
   "source": [
    "print('Calling the new function...')\n",
    "s1.printfunc()"
   ]
  },
  {
   "cell_type": "markdown",
   "id": "46b37c29",
   "metadata": {},
   "source": [
    "Besides `__init__()`, a class has another special function `__str__()`. This function is useful when the object is referenced as a string. \n",
    "\n",
    "Example: **print(s1)** \n",
    "\n"
   ]
  },
  {
   "cell_type": "code",
   "execution_count": 14,
   "id": "8a557c16",
   "metadata": {},
   "outputs": [
    {
     "name": "stdout",
     "output_type": "stream",
     "text": [
      "<__main__.student object at 0x7f26280a7970>\n"
     ]
    }
   ],
   "source": [
    "print (s1)"
   ]
  },
  {
   "cell_type": "markdown",
   "id": "a8832075",
   "metadata": {},
   "source": [
    "Now, we will add the special function `__str__()` to the above class."
   ]
  },
  {
   "cell_type": "code",
   "execution_count": 16,
   "id": "a2a46748",
   "metadata": {},
   "outputs": [],
   "source": [
    "class student:\n",
    "    name = 'Suman'\n",
    "    surname = 'Deb'\n",
    "    age = 100\n",
    "    weight = 100\n",
    "    height = 100\n",
    "    race = 'Asian'\n",
    "    mothertongue = 'Bengali'\n",
    "    \n",
    "    def __init__(self, name, surname, age, weight, height):\n",
    "        self.name = name\n",
    "        self.surname = surname\n",
    "        self.age = age\n",
    "        self.weight = weight\n",
    "        self.height = height\n",
    "        \n",
    "    def printfunc(self):\n",
    "        print(self.name, self.surname, 'is ',self.age,'years old and weighs',self.weight,'kilograms. He is',self.height,'centimetres tall. He is',self.race,self.mothertongue,'.')\n",
    "\n",
    "    \n",
    "    def __str__(self):\n",
    "        return f\"{self.name}({self.age}) from __str__\""
   ]
  },
  {
   "cell_type": "markdown",
   "id": "0c31c6e0",
   "metadata": {},
   "source": [
    "Next, we will see the difference in output upon executing the print statement referring to the object **s1**"
   ]
  },
  {
   "cell_type": "code",
   "execution_count": 18,
   "id": "1a10268d",
   "metadata": {},
   "outputs": [
    {
     "name": "stdout",
     "output_type": "stream",
     "text": [
      "Suman(12) from __str__\n"
     ]
    }
   ],
   "source": [
    "s1=student('Suman','Deb',12,100,167)\n",
    "print(s1)"
   ]
  },
  {
   "cell_type": "markdown",
   "id": "092f96ee",
   "metadata": {},
   "source": [
    "# Scope of Variables in Python\n",
    "## Local Variables\n",
    "\n",
    "A variable created inside a function belongs to the ***local*** scope of that function, and can only be used inside that function or any function inside that function.\n",
    "\n",
    "## Global Variables\n",
    "\n",
    "A variable created in the main body of the Python code is a global variable and belongs to the global scope. Global variables are available from within any scope, global and local.\n",
    "\n"
   ]
  },
  {
   "cell_type": "code",
   "execution_count": 19,
   "id": "961e16d1",
   "metadata": {},
   "outputs": [
    {
     "name": "stdout",
     "output_type": "stream",
     "text": [
      "Value of x inside function scope():  5\n",
      "Value of x outside function scope():  50\n"
     ]
    }
   ],
   "source": [
    "x=50 #global variable\n",
    "\n",
    "def scope():\n",
    "    x=5 #local variable\n",
    "    print('Value of x inside function scope(): ',x)\n",
    "    \n",
    "scope()\n",
    "    \n",
    "print ('Value of x outside function scope(): ',x)"
   ]
  },
  {
   "cell_type": "markdown",
   "id": "b5ad2078",
   "metadata": {},
   "source": [
    "As you have seen, the value of the **global variable *x*** wasn't changed from inside the function. But, this can be made to happen by using the Python keyword **global** before a variable. Not just that, using the keyword **global**, a global variable can be created from inside a function. The below code-snippet exemplifies the functionality of this keyword. "
   ]
  },
  {
   "cell_type": "code",
   "execution_count": 21,
   "id": "05306f41",
   "metadata": {},
   "outputs": [
    {
     "name": "stdout",
     "output_type": "stream",
     "text": [
      "Value of x inside function scope():  5\n",
      "Value of y inside function scope():  9\n",
      "Value of x outside function scope():  5\n",
      "Value of y outside function scope():  9\n",
      "New value of y outside function scope():  99\n"
     ]
    }
   ],
   "source": [
    "x=50 #global variable\n",
    "\n",
    "def scope():\n",
    "    global x\n",
    "    x=5 #local variable\n",
    "    print('Value of x inside function scope(): ',x)\n",
    "    global y\n",
    "    y = 9\n",
    "    print('Value of y inside function scope(): ',y)\n",
    "    \n",
    "scope()\n",
    "    \n",
    "print ('Value of x outside function scope(): ',x)\n",
    "print ('Value of y outside function scope(): ',y)\n",
    "y=99\n",
    "print ('New value of y outside function scope(): ',y)"
   ]
  },
  {
   "cell_type": "markdown",
   "id": "84247fd9",
   "metadata": {},
   "source": [
    "# Python Inheritance\n",
    "\n",
    "This allows a class (called the **child class**) to inherit all the variables and functions of another class called the **parent class**. In the following example, a class ***friend*** is created that inherits from the class ***student*** that we created above. As you can see, ***friend*** can access the function ***printfunc()*** of ***student***. Similarly, it can access all other variables and functions of ***student***."
   ]
  },
  {
   "cell_type": "code",
   "execution_count": 23,
   "id": "56867254",
   "metadata": {},
   "outputs": [
    {
     "name": "stdout",
     "output_type": "stream",
     "text": [
      "Vijay Dwivedi is  16 years old and weighs 199 kilograms. He is 177 centimetres tall. He is Asian Bengali .\n"
     ]
    }
   ],
   "source": [
    "class friend (student):\n",
    "    pass\n",
    "\n",
    "f1=friend('Vijay', 'Dwivedi',16,199,177)\n",
    "f1.printfunc()"
   ]
  },
  {
   "cell_type": "code",
   "execution_count": 26,
   "id": "5fe019fe",
   "metadata": {},
   "outputs": [
    {
     "name": "stdout",
     "output_type": "stream",
     "text": [
      "O\n"
     ]
    }
   ],
   "source": [
    "f1.bloodtype = 'O'#Adding a new variable to the child class\n",
    "print(f1.bloodtype)"
   ]
  },
  {
   "cell_type": "code",
   "execution_count": 25,
   "id": "a60288c1",
   "metadata": {},
   "outputs": [
    {
     "name": "stdout",
     "output_type": "stream",
     "text": [
      "Vijay Dwivedi is  16 years old and weighs 199 kilograms. He is 177 centimetres tall. He is Asian Nepali .\n"
     ]
    }
   ],
   "source": [
    "f1.mothertongue='Nepali'#assigning a new value to a variable inherited from the parent class\n",
    "f1.printfunc()"
   ]
  },
  {
   "cell_type": "markdown",
   "id": "9f2aa2c3",
   "metadata": {},
   "source": [
    "Similarly, a function inherited from the parent class can be overrided by defining a new function (of the same name) in the child class. So, if we define a new `__init__()` in the child class, creating a new object of the child class will execute the new `__init__()` instead of the one in the parent class. Check the following code-snippet for an example."
   ]
  },
  {
   "cell_type": "code",
   "execution_count": 28,
   "id": "03ab76d0",
   "metadata": {},
   "outputs": [
    {
     "name": "stdout",
     "output_type": "stream",
     "text": [
      "Vijay Dwivedi is  100 years old and weighs 100 kilograms. He is 100 centimetres tall. He is Asian Bengali .\n"
     ]
    }
   ],
   "source": [
    "class friend(student):\n",
    "    def __init__(self,name,surname,age,weight,height):#overriding the __init__() function of the parent class\n",
    "        self.name = name\n",
    "        self.surname = surname\n",
    "\n",
    "f1=friend('Vijay', 'Dwivedi',16,199,177)\n",
    "f1.printfunc()"
   ]
  },
  {
   "cell_type": "markdown",
   "id": "82e0a4f1",
   "metadata": {},
   "source": [
    "Similarly, you can add new functions to the child class."
   ]
  },
  {
   "cell_type": "code",
   "execution_count": 34,
   "id": "3c9af10d",
   "metadata": {},
   "outputs": [
    {
     "name": "stdout",
     "output_type": "stream",
     "text": [
      "Vijay Dwivedi is  100 years old and weighs 100 kilograms. He is 100 centimetres tall. He is Asian Bengali .\n",
      "BMI of Vijay is: 100.0\n"
     ]
    }
   ],
   "source": [
    "class friend(student):\n",
    "    def __init__(self,name,surname,age,weight,height):#overriding the __init__() function of the parent class\n",
    "        self.name = name\n",
    "        self.surname = surname\n",
    "    \n",
    "    def calcBMI(self): #adding a new function\n",
    "        return self.weight/(self.height/100)**2\n",
    "\n",
    "f1=friend('Vijay', 'Dwivedi',16,199,177)\n",
    "f1.printfunc()\n",
    "print('BMI of',f1.name,'is:',f1.calcBMI())"
   ]
  },
  {
   "cell_type": "markdown",
   "id": "eb3e5976",
   "metadata": {},
   "source": [
    "The keyword ***super*** is used in the child class to refer to any variable or function in the parent class. It is especially useful in adding new features to an inherited function in the child class."
   ]
  },
  {
   "cell_type": "code",
   "execution_count": 39,
   "id": "ff95cc52",
   "metadata": {
    "scrolled": true
   },
   "outputs": [
    {
     "name": "stdout",
     "output_type": "stream",
     "text": [
      "Vijay Dwivedi is  16 years old and weighs 199 kilograms. He is 177 centimetres tall. He is Indian Nepali .\n",
      "BMI of Vijay is: 63.51942289891155\n"
     ]
    }
   ],
   "source": [
    "class friend(student):\n",
    "    def __init__(self,name,surname,age,weight,height,race,mothertongue):#adding new functionalities to the __init__() function of the parent class\n",
    "        super().__init__(name,surname,age,weight,height)\n",
    "        self.race=race\n",
    "        self.mothertongue=mothertongue\n",
    "        \n",
    "    def calcBMI(self): #adding a new function\n",
    "        return self.weight/(self.height/100)**2\n",
    "    \n",
    "    def printfunc(self):\n",
    "        print(self.name, self.surname, 'is ',self.age,'years old and weighs',self.weight,'kilograms. He is',self.height,'centimetres tall. He is',self.race,self.mothertongue,'.')\n",
    "\n",
    "    \n",
    "\n",
    "f1=friend('Vijay', 'Dwivedi',16,199,177,'Indian','Nepali')\n",
    "f1.printfunc()\n",
    "print('BMI of',f1.name,'is:',f1.calcBMI())"
   ]
  },
  {
   "cell_type": "markdown",
   "id": "30ba074c",
   "metadata": {},
   "source": [
    "Python also supports inheritance of multiple parent classes."
   ]
  },
  {
   "cell_type": "code",
   "execution_count": 7,
   "id": "009f070a",
   "metadata": {},
   "outputs": [
    {
     "name": "stdout",
     "output_type": "stream",
     "text": [
      "17 13 1 30\n"
     ]
    }
   ],
   "source": [
    "class add():\n",
    "    def __init__(self,a,b):\n",
    "        self.sum=a+b\n",
    "\n",
    "class subtract():\n",
    "    def __init__(self,a,b):\n",
    "        self.residue=a-b\n",
    "\n",
    "class multiply():\n",
    "    def __init__(self,a,b):\n",
    "        self.product=a*b\n",
    "        \n",
    "class modulo():\n",
    "    def __init__(self,a,b):\n",
    "        self.remainder=a%b\n",
    "        \n",
    "class math(add,subtract,multiply,modulo):#inheriting from all of the above classes\n",
    "    def __init__(self,a,b):\n",
    "        add.__init__(self,a,b)\n",
    "        subtract.__init__(self,a,b)\n",
    "        multiply.__init__(self,a,b)\n",
    "        modulo.__init__(self,a,b)\n",
    "    \n",
    "op=math(15,2)\n",
    "print(op.sum,op.residue,op.remainder,op.product)"
   ]
  },
  {
   "cell_type": "markdown",
   "id": "eb070f28",
   "metadata": {},
   "source": [
    "# \\*args and \\*\\*kwargs\n",
    "\n",
    "Python is pretty flexible in terms of how arguments are passed to a function. The \\*args and \\*\\*kwargs make it easier and cleaner to handle arguments.\n",
    "\n",
    "The important parts are “\\*” and “\\*\\*”. You can use any word instead of args and kwargs but it is the common practice to use the words args and kwargs.\n",
    "\n",
    "The following function sums up only two numbers. "
   ]
  },
  {
   "cell_type": "code",
   "execution_count": 1,
   "id": "47859d7c",
   "metadata": {},
   "outputs": [
    {
     "name": "stdout",
     "output_type": "stream",
     "text": [
      "7\n"
     ]
    },
    {
     "data": {
      "text/plain": [
       "7"
      ]
     },
     "execution_count": 1,
     "metadata": {},
     "output_type": "execute_result"
    }
   ],
   "source": [
    "def addition(a, b):\n",
    "   return a + b\n",
    "print(addition(3,4))\n",
    "7"
   ]
  },
  {
   "cell_type": "markdown",
   "id": "674ae765",
   "metadata": {},
   "source": [
    "What if we want a function that sums up three or four numbers? We may not even want to put a constraint on the number of arguments that passes to the function.\n",
    "\n",
    "In such cases, we can use \\*args as parameter. \\*args allow a function to take any number of positional arguments."
   ]
  },
  {
   "cell_type": "code",
   "execution_count": 2,
   "id": "b2f8380f",
   "metadata": {},
   "outputs": [
    {
     "name": "stdout",
     "output_type": "stream",
     "text": [
      "0\n",
      "5\n",
      "11\n"
     ]
    },
    {
     "data": {
      "text/plain": [
       "11"
      ]
     },
     "execution_count": 2,
     "metadata": {},
     "output_type": "execute_result"
    }
   ],
   "source": [
    "def addition(*args):\n",
    "   result = 0\n",
    "   for i in args:\n",
    "      result += i\n",
    "   return result\n",
    "\n",
    "print(addition())\n",
    "0\n",
    "print(addition(1,4))\n",
    "5\n",
    "print(addition(1,7,3))\n",
    "11"
   ]
  },
  {
   "cell_type": "markdown",
   "id": "59f4b0ee",
   "metadata": {},
   "source": [
    "* **Positional arguments are declared by a name only. When a function is called, values for positional arguments must be given. Otherwise, we will get an error.**\n",
    "\n",
    "* **\\*\\*kwargs (keyword arguments) allow a function to take any number of keyword arguments.**\n",
    "\n",
    "* **Keyword arguments are declared by a name and a default value. If we do not specify the value for a keyword argument, it takes the default value.**\n",
    "\n",
    "* **By default, \\*\\*kwargs is an empty dictionary. Each undefined keyword argument is stored as a key-value pair in the \\*\\*kwargs dictionary.**"
   ]
  },
  {
   "cell_type": "code",
   "execution_count": 4,
   "id": "23a6682f",
   "metadata": {},
   "outputs": [
    {
     "name": "stdout",
     "output_type": "stream",
     "text": [
      "3\n"
     ]
    },
    {
     "ename": "TypeError",
     "evalue": "addition() missing 1 required positional argument: 'b'",
     "output_type": "error",
     "traceback": [
      "\u001b[0;31m---------------------------------------------------------------------------\u001b[0m",
      "\u001b[0;31mTypeError\u001b[0m                                 Traceback (most recent call last)",
      "Cell \u001b[0;32mIn [4], line 7\u001b[0m\n\u001b[1;32m      5\u001b[0m \u001b[38;5;28;01mdef\u001b[39;00m \u001b[38;5;21maddition\u001b[39m(a, b): \u001b[38;5;66;03m#a and b are positional arguments\u001b[39;00m\n\u001b[1;32m      6\u001b[0m    \u001b[38;5;28;01mreturn\u001b[39;00m a \u001b[38;5;241m+\u001b[39m b\n\u001b[0;32m----> 7\u001b[0m \u001b[38;5;28mprint\u001b[39m(addition(\u001b[38;5;241m1\u001b[39m))\n",
      "\u001b[0;31mTypeError\u001b[0m: addition() missing 1 required positional argument: 'b'"
     ]
    }
   ],
   "source": [
    "def addition(a, b=2): #a is positional, b is keyword argument\n",
    "   return a + b\n",
    "print(addition(1))\n",
    "\n",
    "def addition(a, b): #a and b are positional arguments\n",
    "   return a + b\n",
    "print(addition(1))"
   ]
  },
  {
   "cell_type": "markdown",
   "id": "ec390baf",
   "metadata": {},
   "source": [
    "* It is possible to use the \\*args and named-variables together. \n",
    "\n",
    "* Python wants us to put keyword arguments after positional arguments. "
   ]
  },
  {
   "cell_type": "code",
   "execution_count": 7,
   "id": "d71b050c",
   "metadata": {},
   "outputs": [
    {
     "name": "stdout",
     "output_type": "stream",
     "text": [
      "3 4\n",
      "True\n",
      "{'param1': 5, 'param2': 6}\n"
     ]
    }
   ],
   "source": [
    "def arg_printer(a, b, option=True, **kwargs):\n",
    "   print(a, b)\n",
    "   print(option)\n",
    "   print(kwargs)\n",
    "arg_printer(3, 4, param1=5, param2=6)"
   ]
  },
  {
   "cell_type": "code",
   "execution_count": 9,
   "id": "b66b63c5",
   "metadata": {},
   "outputs": [
    {
     "name": "stdout",
     "output_type": "stream",
     "text": [
      "([1, 4, 5],)\n"
     ]
    }
   ],
   "source": [
    "def arg_printer(*args):\n",
    "   print(args)\n",
    "\n",
    "lst = [1,4,5]\n",
    "arg_printer(lst)\n"
   ]
  },
  {
   "cell_type": "code",
   "execution_count": 10,
   "id": "23608ed5",
   "metadata": {},
   "outputs": [
    {
     "name": "stdout",
     "output_type": "stream",
     "text": [
      "(1, 4, 5)\n"
     ]
    }
   ],
   "source": [
    "\n",
    "lst = [1,4,5]\n",
    "arg_printer(*lst)\n",
    "\n"
   ]
  },
  {
   "cell_type": "code",
   "execution_count": 11,
   "id": "0a6169ec",
   "metadata": {},
   "outputs": [
    {
     "name": "stdout",
     "output_type": "stream",
     "text": [
      "(1, 4, 5, 'a', 'b', 4, 5, 6)\n"
     ]
    }
   ],
   "source": [
    "lst = [1,4,5]\n",
    "tpl = ('a','b',4)\n",
    "arg_printer(*lst, *tpl, 5, 6)"
   ]
  },
  {
   "cell_type": "code",
   "execution_count": 12,
   "id": "138f3273",
   "metadata": {},
   "outputs": [
    {
     "name": "stdout",
     "output_type": "stream",
     "text": [
      "{'param1': 5, 'param2': 8}\n"
     ]
    }
   ],
   "source": [
    "def arg_printer(**kwargs):\n",
    "   print(kwargs)\n",
    "\n",
    "dct = {'param1':5, 'param2':8}\n",
    "arg_printer(**dct)"
   ]
  },
  {
   "cell_type": "code",
   "execution_count": 13,
   "id": "04105476",
   "metadata": {},
   "outputs": [
    {
     "name": "stdout",
     "output_type": "stream",
     "text": [
      "{'param3': 9, 'param1': 5, 'param2': 8}\n"
     ]
    }
   ],
   "source": [
    "dct = {'param1':5, 'param2':8}\n",
    "arg_printer(param3=9, **dct)\n"
   ]
  },
  {
   "cell_type": "markdown",
   "id": "fc5c7edb",
   "metadata": {},
   "source": [
    "## enumerate()\n",
    "\n",
    "The `enumerate()` function adds a counter to each element of an iterable (e.g., tensor, list) and returns an enumerate object. The enumerate object has a list of tuples. Each tuple contains a *count* and the corresponding element of the iterable. Enumerate objects can be converted to list and tuple using `list()` and `tuple()` functions respectively.\n",
    "\n",
    "The enumerate() function takes two arguments:\n",
    "\n",
    "1. *iterable* - a sequence, an iterator, or objects that support iteration\n",
    "2. *start* (optional) - `enumerate()` starts counting from this number. If *start* is omitted, 0 is taken as start."
   ]
  },
  {
   "cell_type": "code",
   "execution_count": 1,
   "id": "fc516b17",
   "metadata": {},
   "outputs": [
    {
     "name": "stdout",
     "output_type": "stream",
     "text": [
      "<enumerate object at 0x7f3240617f40>\n"
     ]
    }
   ],
   "source": [
    "lang = ['Python', 'Java', 'JavaScript']\n",
    "\n",
    "lang_enum = enumerate(lang)\n",
    "print(lang_enum)"
   ]
  },
  {
   "cell_type": "code",
   "execution_count": 2,
   "id": "7ec2c8bd",
   "metadata": {},
   "outputs": [
    {
     "name": "stdout",
     "output_type": "stream",
     "text": [
      "[(0, 'Python'), (1, 'Java'), (2, 'JavaScript')]\n"
     ]
    }
   ],
   "source": [
    "print(list(lang_enum))"
   ]
  },
  {
   "cell_type": "code",
   "execution_count": 13,
   "id": "ee2e9e98",
   "metadata": {},
   "outputs": [],
   "source": [
    "for item in lang_enum:\n",
    "  print(item)"
   ]
  },
  {
   "cell_type": "code",
   "execution_count": 15,
   "id": "eb8bf4ba",
   "metadata": {},
   "outputs": [],
   "source": [
    "for item in list(lang_enum):\n",
    "  print(item)"
   ]
  },
  {
   "cell_type": "code",
   "execution_count": 12,
   "id": "b10eb2b8",
   "metadata": {},
   "outputs": [
    {
     "name": "stdout",
     "output_type": "stream",
     "text": [
      "(0, 'Python')\n",
      "(1, 'Java')\n",
      "(2, 'JavaScript')\n"
     ]
    }
   ],
   "source": [
    "for item in enumerate(lang):\n",
    "  print(item)"
   ]
  },
  {
   "cell_type": "code",
   "execution_count": 5,
   "id": "a393e5ed",
   "metadata": {},
   "outputs": [
    {
     "name": "stdout",
     "output_type": "stream",
     "text": [
      "0 Python\n",
      "1 Java\n",
      "2 JavaScript\n"
     ]
    }
   ],
   "source": [
    "for count, item in enumerate(lang):\n",
    "  print(count, item)"
   ]
  },
  {
   "cell_type": "code",
   "execution_count": 3,
   "id": "255b5109",
   "metadata": {},
   "outputs": [
    {
     "name": "stdout",
     "output_type": "stream",
     "text": [
      "<enumerate object at 0x7f3240602040>\n"
     ]
    }
   ],
   "source": [
    "lang_enum = enumerate(lang,100)\n",
    "print(lang_enum)"
   ]
  },
  {
   "cell_type": "code",
   "execution_count": 4,
   "id": "3bea8a16",
   "metadata": {},
   "outputs": [
    {
     "name": "stdout",
     "output_type": "stream",
     "text": [
      "[(100, 'Python'), (101, 'Java'), (102, 'JavaScript')]\n"
     ]
    }
   ],
   "source": [
    "print(list(lang_enum))"
   ]
  },
  {
   "cell_type": "code",
   "execution_count": 16,
   "id": "c540351d",
   "metadata": {},
   "outputs": [],
   "source": [
    "for item in list(lang_enum):\n",
    "  print(item)"
   ]
  },
  {
   "cell_type": "code",
   "execution_count": 17,
   "id": "4388116a",
   "metadata": {},
   "outputs": [
    {
     "name": "stdout",
     "output_type": "stream",
     "text": [
      "100 Python\n",
      "101 Java\n",
      "102 JavaScript\n"
     ]
    }
   ],
   "source": [
    "for count, item in enumerate(lang,100):\n",
    "  print(count, item)"
   ]
  },
  {
   "cell_type": "markdown",
   "id": "99350269",
   "metadata": {},
   "source": [
    "# What does \\*tuple and \\*\\*dict mean in Python? \n",
    "\n",
    "**In a function call**, `*t` means \"treat the elements of this iterable as positional arguments to this function call\" and `**d` means \"treat the key-value pairs in the dictionary as additional named arguments to this function call.\"\n",
    "\n",
    "**In a function signature**, `*t` means \"take all additional positional arguments to this function and pack them into this parameter as a tuple\" and `**d` means \"take all additional named arguments to this function and insert them into this parameter as dictionary entries.\"\n",
    "\n",
    "More info at: https://stackoverflow.com/questions/21809112/what-does-tuple-and-dict-mean-in-python\n",
    "\n",
    "In GraphGym/graphgym/model_builder.py:\n",
    "\n",
    "`network_dict = {'gnn': GNN,}`\n",
    "\n",
    "`network_dict = {**register.network_dict, **network_dict}`"
   ]
  },
  {
   "cell_type": "markdown",
   "id": "d2f2c604",
   "metadata": {},
   "source": [
    "# Difference Between `typing.Dict` & `dict` and Their Uses in Python\n",
    "\n",
    "There is no real-world difference between using a `typing.Dict` and a plain `dict` when declaring a dictionary as an argument in a Python function.\n",
    "\n",
    "However, the `typing.Dict` function is a Generic type function that lets us specify the data type of the keys and values, making it more flexible.\n",
    "\n",
    "Example: `def exampleFunction(typing.Dict[str, int])`\n",
    "\n",
    "`dict()` is slower than `{}`\n",
    "\n",
    "\n",
    "\n",
    "If we use Python version 3.9 and above, Python has deprecated `typing.Dict` and instead enforced type hints in the built-in `dict()` commands. We can specify the type while declaring a dictionary in Python. Example: \n",
    "`def exampleFunction(dict[str,int])`\n",
    "\n",
    "Really good infor @ https://switowski.com/blog/dict-function-vs-literal-syntax/. Must read!!! -- \"I tried to think of any other reason why you might use dict() over {}, and the only one that came to my mind was for creating a dictionary from an iterator.\n",
    "\n",
    "Take a look at this example:\n",
    "\n",
    "`iter = zip(['a', 'b', 'c'], [1,2,3])`\n",
    "\n",
    "`{iter}`\n",
    "\n",
    "{<zip at 0x102d57b40>}  # This is not really what we want\n",
    "\n",
    "`dict(iter)`\n",
    "\n",
    "{'a': 1, 'b': 2, 'c': 3}  # Much better\n",
    "\n",
    "\n",
    "We can't use the literal syntax to create a dictionary. We would have to use a dictionary comprehension: {k: v for k, v in iter}. But a simple dict(iter) looks much cleaner. Apart from this use case, I think it's mostly up to your preference which version you use.\n",
    "\n",
    "The same rule applies to using `[]` vs. `list()`, `()` vs. `tuple()`, or `{'x',}` vs. `set(['x'])`. Using the literal syntax is faster than calling the corresponding function.\n",
    "\n",
    "Take this function:\n",
    "\n",
    "`def get_sales_summary():`\n",
    "\n",
    "`\"\"Return summary for yesterday’s sales.\"\"\"`\n",
    "    \n",
    "`return {\"sales\": 1_000,\"country\": \"UK\",\"product_codes\": [\"SUYDT\"],}`\n",
    "    \n",
    "**What type hint should we add for the return value of `get_sales_summary`?**\n",
    "\n",
    "We could use `dict`:\n",
    "\n",
    "`def get_sales_summary() -> dict`:\n",
    "    ...\n",
    "\n",
    "It’s true the function does return a `dict`, but it’s an incomplete type. Using `dict` without any parameters is equivalent to `dict[Any, Any]`, and `Any` disables type checking. This would mean our return `dict`’s keys and values would not be type checked in callers.\n",
    "\n",
    "For example, Mypy wouldn’t see any problem with this code:\n",
    "\n",
    "`sales_summary = get_sales_summary()`\n",
    "\n",
    "`print(\"Sales:\" + sales_summary[\"sales\"])`\n",
    "\n",
    "\n",
    "But it crashes with a TypeError:\n",
    "\n",
    "`$ python example.py`\n",
    "\n",
    "`Traceback (most recent call last):`\n",
    "\n",
    "`File \"/.../example.py\", line 11, in <module>`\n",
    "\n",
    "`print(\"Sales:\" + sales_summary[\"sales\"])`\n",
    "\n",
    "`TypeError: can only concatenate str (not \"int\") to str`\n",
    "\n",
    "We can improve on just `dict` by parameterizing the types of its keys and values:\n",
    "\n",
    "`def get_sales_summary() -> dict[str, object]:`\n",
    "\n",
    "    ...\n",
    "    \n",
    "Now we’re accurately declaring the type of the keys as `str`, which is great.\n",
    "\n",
    "As the return values have mixed types, using `object` is technically correct. It conveys “this could be anything” better than `Any`. \n",
    "\n",
    "For example, take this code:\n",
    "\n",
    "`sales_summary = get_sales_summary()`\n",
    "\n",
    "`sales = sales_summary[\"sales\"]`\n",
    "\n",
    "`print(\"Sales per hour:\", round(sales / 24, 2))`\n",
    "\n",
    "Mypy cannot tell that sales is an int, so it raises an error:\n",
    "\n",
    "`$ mypy example.py`\n",
    "\n",
    "`example.py:12: error: Unsupported operand types for / (\"object\" and \"int\")`\n",
    "\n",
    "`Found 1 error in 1 file (checked 1 source file)`\n",
    "\n",
    "We can use the typing union operator, `|`, to declare the possible types of values:\n",
    "\n",
    "`from __future__ import annotations`\n",
    "\n",
    "\n",
    "`def get_sales_summary() -> dict[str, int | str | list[str]]:`\n",
    "\n",
    "    ...\n",
    "    \n",
    "This constrains our values to be `int` or `str` or `list[str]`. The `union` type is more accurate than `object`, which allowed literally infinite different types. But it does have a drawback - the type checker has has to assume each value could be any of the unioned types.\n",
    "\n",
    "For example, we might try again to use \"sales\" as an `int`:\n",
    "\n",
    "`sales_summary = get_sales_summary()`\n",
    "\n",
    "`sales = sales_summary[\"sales\"]`\n",
    "\n",
    "`print(\"Sales per hour:\", round(sales / 24, 2))`\n",
    "\n",
    "But mypy tells us that the division operation won’t work in the cases that sales might be a str or list[str]:\n",
    "\n",
    "`$ mypy example.py`\n",
    "\n",
    "`example.py:17: error: Unsupported operand types for / (\"str\" and \"int\")`\n",
    "\n",
    "`example.py:17: error: Unsupported operand types for / (\"List[str]\" and \"int\")`\n",
    "\n",
    "`example.py:17: note: Left operand is of type \"Union[int, str, List[str]]\"`\n",
    "\n",
    "`Found 2 errors in 1 file (checked 1 source file)`\n",
    "\n",
    "We now arrive at solution in the title. `TypedDict` allows us to declare a structure for `dict`s, mapping their keys (strings) to the types of their values.\n",
    "\n",
    "`TypedDict` was specified in PEP 589 and introduced in Python 3.8. On older versions of Python you can install it from typing-extensions.\n",
    "\n",
    "We can use it like so:\n",
    "\n",
    "`from typing import TypedDict`\n",
    "\n",
    "\n",
    "`class SalesSummary(TypedDict):`\n",
    "\n",
    "`sales: int`\n",
    "    \n",
    "`country: str`\n",
    "\n",
    "`product_codes: list[str]`\n",
    "\n",
    "\n",
    "`def get_sales_summary() -> SalesSummary:`\n",
    "    \"\"\"Return summary for yesterday’s sales.\"\"\"\n",
    "`return {`\n",
    "\n",
    "`\"sales\": 1_000,`\n",
    "\n",
    "`\"country\": \"UK\",`\n",
    "\n",
    "`\"product_codes\": [\"SUYDT\"]}`\n",
    "\n",
    "\n",
    "`sales_summary = get_sales_summary()`\n",
    "\n",
    "`sales = sales_summary[\"sales\"]`\n",
    "\n",
    "`print(\"Sales per hour:\", round(sales / 24, 2))`\n",
    "\n",
    "Mypy knows that sales is an int, so it allows the file to pass:\n",
    "\n",
    "`$ mypy v5.py`\n",
    "\n",
    "`Success: no issues found in 1 source file`"
   ]
  },
  {
   "cell_type": "markdown",
   "id": "a12ea0e3",
   "metadata": {},
   "source": [
    "`os.listdir()` method in python is used to get the list of all files and directories in the specified directory. If we don’t specify any directory, then list of files and directories in the current working directory will be returned."
   ]
  },
  {
   "cell_type": "markdown",
   "id": "e5129873",
   "metadata": {},
   "source": [
    "When an error occurs, or exception as we call it, Python will normally stop and generate an error message. But, if you put the error-causing code inside a `try` block, the Python program won't stop or crash. It will pass the execution to the next code line. If the `except` block is present, it will execute the code inside it. \n",
    "\n",
    "The `try` block lets you test a block of code for errors.\n",
    "\n",
    "The `except` block lets you handle the error.\n",
    "\n",
    "The `else` block lets you execute a code when the `execute` block doesn't execute.\n",
    "\n",
    "The `finally` block lets you execute code, regardless of the result of the `try` and `except` blocks.\n",
    "\n",
    "Example:\n",
    "\n",
    "```\n",
    "def divide_each(a, b):\n",
    "    try:\n",
    "        print(a / b)\n",
    "    except ZeroDivisionError as e:\n",
    "        print('catch ZeroDivisionError:', e)\n",
    "    except TypeError as e:\n",
    "        print('catch TypeError:', e)\n",
    "\n",
    "divide_each(1, 0)\n",
    "\n",
    "divide_each('a', 'b')\n",
    "\n",
    "```\n",
    "\n",
    "Output:\n",
    "\n",
    "```\n",
    "catch ZeroDivisionError: division by zero\n",
    "catch TypeError: unsupported operand type(s) for /: 'str' and 'str'\n",
    "```"
   ]
  },
  {
   "cell_type": "markdown",
   "id": "28230be7",
   "metadata": {},
   "source": [
    "# Iterator\n",
    "\n",
    "An iterator in Python is an object that is used to iterate over iterable objects like list, tuple, dict, and set. A Python iterator is created when an iterable is passed to the `iter()` method. An iterator iterates over an iterable using the `next()` method.\n",
    "1. `__iter__()`: The iter() method is called for the initialization of an iterator. This returns an iterator object\n",
    "2. `__next__()`: The next method returns the next value for the iterable. It returns a `StopIteration` Exception when it runs out of elements.\n",
    "\n",
    "When you use a `for` loop to iterate through an iterable, it internally converts the iterable to an iterator and then uses the `next()` method to return the next element."
   ]
  },
  {
   "cell_type": "markdown",
   "id": "d75a820a",
   "metadata": {},
   "source": [
    "**To Read:** \n",
    "\n",
    "1. https://jakevdp.github.io/blog/2017/12/05/installing-python-packages-from-jupyter/"
   ]
  }
 ],
 "metadata": {
  "kernelspec": {
   "display_name": "Python 3 (ipykernel)",
   "language": "python",
   "name": "python3"
  },
  "language_info": {
   "codemirror_mode": {
    "name": "ipython",
    "version": 3
   },
   "file_extension": ".py",
   "mimetype": "text/x-python",
   "name": "python",
   "nbconvert_exporter": "python",
   "pygments_lexer": "ipython3",
   "version": "3.8.10"
  }
 },
 "nbformat": 4,
 "nbformat_minor": 5
}
