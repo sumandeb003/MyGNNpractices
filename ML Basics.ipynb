{
 "cells": [
  {
   "cell_type": "markdown",
   "id": "9d134de4",
   "metadata": {},
   "source": [
    "**ReLU (Rectified Linear Unit)** is a piecewise linear function that will output the input directly if it is positive, otherwise, it will output zero. It has become the default activation function for many types of neural networks because a model that uses it is easier to train and often achieves better performance."
   ]
  },
  {
   "cell_type": "markdown",
   "id": "01fac232",
   "metadata": {},
   "source": [
    "## Batch Training\n",
    "\n",
    "Every input in that batch is forward passed through the network and their individual losses are stored\n",
    "\n",
    "Then, the average loss of the losses for that batch is calculated\n",
    "\n",
    "Then, the weight updates are calculated by doing backpropagation using the average loss\n",
    "\n",
    "Finally, the weights are updated"
   ]
  },
  {
   "cell_type": "markdown",
   "id": "0e397571",
   "metadata": {},
   "source": [
    "**To Read:** \n",
    "\n",
    "1. https://machinelearningmastery.com/rectified-linear-activation-function-for-deep-learning-neural-networks/\n",
    "\n",
    "2. https://machinelearningmastery.com/how-to-fix-vanishing-gradients-using-the-rectified-linear-activation-function/\n",
    "\n",
    "3. https://jonathan-hui.medium.com/\n",
    "\n",
    "4. https://jonathan-hui.medium.com/graph-convolutional-networks-gcn-pooling-839184205692\n",
    "\n",
    "5. https://github.com/ntu-nail/MH6812\n",
    "\n",
    "6. https://colab.research.google.com/drive/1aJxKxaTduUBtXJ5I8KLT_Hq6iyAwPeSx?usp=sharing"
   ]
  },
  {
   "cell_type": "markdown",
   "id": "17380251",
   "metadata": {},
   "source": [
    "# Some Useful Information\n",
    "\n",
    "**Weights & Biases (W&B)** is a useful tool for machine learning engineers, and data scientists that logs the learnt weights, biases, hyperparameters and other performance metrics. It allows users to:\n",
    "\n",
    "1. **Track model performance metrics** such as accuracy, and loss **during the training and testing**.\n",
    "\n",
    "2. **Visualize the model's learning process through graphs, charts, and histograms** to gain insights into how the model is performing.\n",
    "\n",
    "3. **Compare the performance metrics of different models** to help choose the best-performing one.\n",
    "\n",
    "4. **Collaborate with others by sharing experiments and results**.\n",
    "\n",
    "With W&B, users can easily keep track of multiple experiments, compare results, and identify the best-performing model for a particular task.\n",
    "\n",
    "Follow the steps below to create a WandB account and retrieve the API key:\n",
    "\n",
    "1. Head over to the [WandB homepage](https://wandb.ai/site) and click the \"SIGN UP\" button in the top right corner.\n",
    "\n",
    "2. Enter an email address and a password and click the \"SIGN UP\" button.\n",
    "\n",
    "3. A confirmation email will be sent to the provided email address. Click the \"Verify email\" link given in the email.\n",
    "\n",
    "4. Enter your full name, company name, and username in the account creation page and click the \"Sign Up\" button.\n",
    "\n",
    "5. Select \"Personal\" for \"How do you plan to use W&B?\" and click the \"Continue\" button. This will redirect to the account homepage.\n",
    "\n",
    "6. Copy the API key under the \"Authorize with your API key.\" heading. You can use this API key to authenticate your account and provide secure access to your data and experiments.\n",
    "\n",
    "First, install W&B using the following command:\n",
    "\n",
    "1. in CLI - `pip install wandb`\n",
    "\n",
    "2. in Notebook - `!pip install wandb`\n",
    "\n",
    "Next, log in to W&B using: \n",
    "\n",
    "1. in CLI: `wandb login`\n",
    "2. in Notebook: `wandb.login()`\n",
    "\n",
    "Finally, paste your `API key` when prompted"
   ]
  }
 ],
 "metadata": {
  "kernelspec": {
   "display_name": "Python 3 (ipykernel)",
   "language": "python",
   "name": "python3"
  },
  "language_info": {
   "codemirror_mode": {
    "name": "ipython",
    "version": 3
   },
   "file_extension": ".py",
   "mimetype": "text/x-python",
   "name": "python",
   "nbconvert_exporter": "python",
   "pygments_lexer": "ipython3",
   "version": "3.8.10"
  }
 },
 "nbformat": 4,
 "nbformat_minor": 5
}
