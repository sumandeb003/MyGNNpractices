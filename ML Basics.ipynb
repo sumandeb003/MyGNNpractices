{
 "cells": [
  {
   "cell_type": "markdown",
   "id": "9d134de4",
   "metadata": {},
   "source": [
    "**ReLU (Rectified Linear Unit)** is a piecewise linear function that will output the input directly if it is positive, otherwise, it will output zero. It has become the default activation function for many types of neural networks because a model that uses it is easier to train and often achieves better performance."
   ]
  },
  {
   "cell_type": "markdown",
   "id": "01fac232",
   "metadata": {},
   "source": [
    "## Batch Training\n",
    "\n",
    "Every input in that batch is forward passed through the network and their individual losses are stored\n",
    "\n",
    "Then, the average loss of the losses for that batch is calculated\n",
    "\n",
    "Then, the weight updates are calculated by doing backpropagation using the average loss\n",
    "\n",
    "Finally, the weights are updated"
   ]
  },
  {
   "cell_type": "markdown",
   "id": "0e397571",
   "metadata": {},
   "source": [
    "**To Read:** \n",
    "\n",
    "1. https://machinelearningmastery.com/rectified-linear-activation-function-for-deep-learning-neural-networks/\n",
    "\n",
    "2. https://machinelearningmastery.com/how-to-fix-vanishing-gradients-using-the-rectified-linear-activation-function/\n",
    "\n",
    "3. https://jonathan-hui.medium.com/\n",
    "\n",
    "4. https://jonathan-hui.medium.com/graph-convolutional-networks-gcn-pooling-839184205692\n",
    "\n",
    "5. https://github.com/ntu-nail/MH6812\n",
    "\n",
    "6. https://colab.research.google.com/drive/1aJxKxaTduUBtXJ5I8KLT_Hq6iyAwPeSx?usp=sharing"
   ]
  }
 ],
 "metadata": {
  "kernelspec": {
   "display_name": "Python 3 (ipykernel)",
   "language": "python",
   "name": "python3"
  },
  "language_info": {
   "codemirror_mode": {
    "name": "ipython",
    "version": 3
   },
   "file_extension": ".py",
   "mimetype": "text/x-python",
   "name": "python",
   "nbconvert_exporter": "python",
   "pygments_lexer": "ipython3",
   "version": "3.8.10"
  }
 },
 "nbformat": 4,
 "nbformat_minor": 5
}
