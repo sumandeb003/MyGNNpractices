{
 "cells": [
  {
   "cell_type": "markdown",
   "id": "1a117530",
   "metadata": {},
   "source": [
    "## Setting Up GraphGym in My Machine:\n",
    "\n",
    "The setup instructions given in https://github.com/snap-stanford/GraphGym didn't work and raised an `OSError`. The following steps were successful finally.\n",
    "\n",
    "`conda create -n graphgym python=3.7`\n",
    "\n",
    "`conda activate graphgym`\n",
    "\n",
    "`conda install pyg -c pyg`\n",
    "\n",
    "`CUDA=cu101`\n",
    "\n",
    "`TORCH=1.12.1`\n",
    "\n",
    "`pip install torch-scatter -f https://pytorch-geometric.com/whl/torch-${TORCH}+${CUDA}.html`\n",
    "\n",
    "`pip install torch-sparse -f https://pytorch-geometric.com/whl/torch-${TORCH}+${CUDA}.html`\n",
    "\n",
    "`pip install torch-cluster -f https://pytorch-geometric.com/whl/torch-${TORCH}+${CUDA}.html`\n",
    "\n",
    "`pip install torch-spline-conv -f https://pytorch-geometric.com/whl/torch-${TORCH}+${CUDA}.html`\n",
    "\n",
    "`pip install torch-geometric`\n",
    "\n",
    "`git clone https://github.com/snap-stanford/GraphGym`\n",
    "\n",
    "`cd GraphGym`\n",
    "\n",
    "`pip install -r requirements.txt`\n",
    "\n",
    "`pip install -e .`\n",
    "\n",
    "## Testing GraphGym\n",
    "\n",
    "`cd run`\n",
    "\n",
    "`bash run_single.sh # run a single experiment`\n",
    "\n",
    "In `GraphGym/run/run_single.sh`:\n",
    "\n",
    "`python main.py --cfg configs/example.yaml --repeat 3`\n",
    "\n",
    "The number of different random seeds to repeat is specified via `--repeat`.\n",
    "\n",
    "**All the configuration parameters of an experiment are fully specified in a `.yaml` file in `GraphGym/run/configs`.** Unspecified configurations in the `.yaml` file are populated by the default values in `GraphGym/graphgym/config.py`.\n",
    "\n",
    "**Experimental results are automatically saved in the directory `GraphGym/run/results/{CONFIG_NAME}/`.**: In the example above, the results are saved in `GraphGym/run/results/example/`. Results for different random seeds will be saved in different subdirectories, such as `GraphGym/run/results/example/2`. The aggregated results over all the random seeds are automatically generated into `GraphGym/run/results/example/agg`, including the mean and standard deviation for each metric. `Train`/`val`/`test` results are further saved into subdirectories, such as `GraphGym/run/results/example/agg/val`, `GraphGym/run/results/example/agg/train` etc.; here, `stats.json` stores the results after each epoch aggregated across random seeds, `best.json` stores the results at the epoch with the highest validation accuracy.\n"
   ]
  }
 ],
 "metadata": {
  "kernelspec": {
   "display_name": "Python 3 (ipykernel)",
   "language": "python",
   "name": "python3"
  },
  "language_info": {
   "codemirror_mode": {
    "name": "ipython",
    "version": 3
   },
   "file_extension": ".py",
   "mimetype": "text/x-python",
   "name": "python",
   "nbconvert_exporter": "python",
   "pygments_lexer": "ipython3",
   "version": "3.8.10"
  }
 },
 "nbformat": 4,
 "nbformat_minor": 5
}
